{
 "cells": [
  {
   "cell_type": "code",
   "execution_count": 1,
   "id": "71ba954b",
   "metadata": {},
   "outputs": [],
   "source": [
    "from langchain_openai import ChatOpenAI\n",
    "from getpass import getpass\n",
    "import pandas as pd\n",
    "from tqdm import tqdm\n",
    "\n",
    "#course_api_key= \"Введите ваш API ключ с курса\"\n",
    "course_api_key = getpass(prompt='Введите API ключ')\n",
    "\n",
    "# Инициализируем языковую модель\n",
    "llm = ChatOpenAI(api_key=course_api_key, model='gpt-4o-mini',\n",
    "                 base_url=\"https://aleron-llm.neuraldeep.tech/\")"
   ]
  },
  {
   "cell_type": "code",
   "execution_count": 2,
   "id": "7dc39981",
   "metadata": {},
   "outputs": [
    {
     "data": {
      "application/vnd.microsoft.datawrangler.viewer.v0+json": {
       "columns": [
        {
         "name": "index",
         "rawType": "int64",
         "type": "integer"
        },
        {
         "name": "text_id",
         "rawType": "int64",
         "type": "integer"
        },
        {
         "name": "text",
         "rawType": "object",
         "type": "string"
        }
       ],
       "ref": "5d5cb5ad-fd2c-4e56-a9df-824b0a2423c5",
       "rows": [
        [
         "0",
         "143",
         "Удаленная работа. От нас: Зп от 2500$"
        ],
        [
         "1",
         "179",
         "Что вы думаете о концепции децентрализованных бирж (DEX)? Какие преимущества они предоставляют по сравнению с традиционными биржами?"
        ],
        [
         "2",
         "147",
         "Удалённый заработок. Время 1-2часа в день. Можно без опыта всему обучим. заработок в долларах. Возраст 20+"
        ],
        [
         "3",
         "157",
         "Меня всегда интересовал вопрос безопасности хранения криптовалюты. Какие лучшие методы хранения считаются наиболее надежными?"
        ],
        [
         "4",
         "168",
         "Я слышал, что некоторые банки начали экспериментировать с использованием блокчейна для улучшения системы денежных переводов. Это может изменить финансовую индустрию?"
        ]
       ],
       "shape": {
        "columns": 2,
        "rows": 5
       }
      },
      "text/html": [
       "<div>\n",
       "<style scoped>\n",
       "    .dataframe tbody tr th:only-of-type {\n",
       "        vertical-align: middle;\n",
       "    }\n",
       "\n",
       "    .dataframe tbody tr th {\n",
       "        vertical-align: top;\n",
       "    }\n",
       "\n",
       "    .dataframe thead th {\n",
       "        text-align: right;\n",
       "    }\n",
       "</style>\n",
       "<table border=\"1\" class=\"dataframe\">\n",
       "  <thead>\n",
       "    <tr style=\"text-align: right;\">\n",
       "      <th></th>\n",
       "      <th>text_id</th>\n",
       "      <th>text</th>\n",
       "    </tr>\n",
       "  </thead>\n",
       "  <tbody>\n",
       "    <tr>\n",
       "      <th>0</th>\n",
       "      <td>143</td>\n",
       "      <td>Удаленная работа. От нас: Зп от 2500$</td>\n",
       "    </tr>\n",
       "    <tr>\n",
       "      <th>1</th>\n",
       "      <td>179</td>\n",
       "      <td>Что вы думаете о концепции децентрализованных ...</td>\n",
       "    </tr>\n",
       "    <tr>\n",
       "      <th>2</th>\n",
       "      <td>147</td>\n",
       "      <td>Удалённый заработок. Время 1-2часа в день. Мож...</td>\n",
       "    </tr>\n",
       "    <tr>\n",
       "      <th>3</th>\n",
       "      <td>157</td>\n",
       "      <td>Меня всегда интересовал вопрос безопасности хр...</td>\n",
       "    </tr>\n",
       "    <tr>\n",
       "      <th>4</th>\n",
       "      <td>168</td>\n",
       "      <td>Я слышал, что некоторые банки начали экспериме...</td>\n",
       "    </tr>\n",
       "  </tbody>\n",
       "</table>\n",
       "</div>"
      ],
      "text/plain": [
       "   text_id                                               text\n",
       "0      143              Удаленная работа. От нас: Зп от 2500$\n",
       "1      179  Что вы думаете о концепции децентрализованных ...\n",
       "2      147  Удалённый заработок. Время 1-2часа в день. Мож...\n",
       "3      157  Меня всегда интересовал вопрос безопасности хр...\n",
       "4      168  Я слышал, что некоторые банки начали экспериме..."
      ]
     },
     "execution_count": 2,
     "metadata": {},
     "output_type": "execute_result"
    }
   ],
   "source": [
    "df = pd.read_csv('100_crypto_messages.csv',encoding='utf-8')\n",
    "df.head()"
   ]
  },
  {
   "cell_type": "code",
   "execution_count": 3,
   "id": "4be6445f",
   "metadata": {},
   "outputs": [],
   "source": [
    "prompt_template = \"\"\"Ты - профессиональный ассистент чата, который специализируется на удалении спама из чата про криптовалюты.\n",
    "Твоя задача - понять является ли сообщение спамом или же это сообщение пользователя.\n",
    "Если сообщение спам - верни <1>, если нет или неизвестно - <0>. Возвращаемое значение должно быть в формате int\n",
    "\n",
    "Context: {text_input}\n",
    "\n",
    "###\n",
    "\n",
    "Question: Является ли данное сообщение спамом?\n",
    "\n",
    "###\n",
    "\n",
    "Answer: ...\n",
    "\"\"\""
   ]
  },
  {
   "cell_type": "code",
   "execution_count": 4,
   "id": "6b7b4a79",
   "metadata": {},
   "outputs": [
    {
     "name": "stderr",
     "output_type": "stream",
     "text": [
      "100%|██████████| 100/100 [01:22<00:00,  1.22it/s]\n"
     ]
    },
    {
     "data": {
      "text/plain": [
       "str"
      ]
     },
     "execution_count": 4,
     "metadata": {},
     "output_type": "execute_result"
    }
   ],
   "source": [
    "amount_list = [] # Список, где будем хранить ответы модели\n",
    "\n",
    "for text_input in tqdm(df['text']):\n",
    "    prompt = prompt_template.format(text_input=text_input) # Добавляем сообщение в промпт\n",
    "    amount = llm.invoke(prompt).content # Ответ модели\n",
    "    amount_list.append(amount) # Добавляем ответ в список\n",
    "\n",
    "# перед записью ответа в датафрейм, проверьте какого типа ответы\n",
    "type(amount_list[0])"
   ]
  },
  {
   "cell_type": "code",
   "execution_count": 17,
   "id": "9cd5a741",
   "metadata": {},
   "outputs": [],
   "source": [
    "def convert(value):\n",
    "    if not(value in ['0','1']):\n",
    "        return \"0\"\n",
    "    return value\n",
    "    \n",
    "\n",
    "cl_list_1 = map(lambda x: x.replace('<',''),amount_list)\n",
    "cl_list_2 = map(lambda x: x.replace('>',''),cl_list_1)\n",
    "cl_list_3 = map(lambda x: convert(x),cl_list_2)\n",
    "final_list = map(int,cl_list_3)\n",
    "res = list(final_list)\n",
    "res\n",
    "\n",
    "df['is_spam'] = res\n",
    "df.to_csv(\"100_crypto_messages_res.csv\",index=False)"
   ]
  }
 ],
 "metadata": {
  "kernelspec": {
   "display_name": ".venv",
   "language": "python",
   "name": "python3"
  },
  "language_info": {
   "codemirror_mode": {
    "name": "ipython",
    "version": 3
   },
   "file_extension": ".py",
   "mimetype": "text/x-python",
   "name": "python",
   "nbconvert_exporter": "python",
   "pygments_lexer": "ipython3",
   "version": "3.12.9"
  }
 },
 "nbformat": 4,
 "nbformat_minor": 5
}
