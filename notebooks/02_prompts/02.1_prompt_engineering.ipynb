{
 "cells": [
  {
   "cell_type": "code",
   "execution_count": null,
   "id": "f492c54a",
   "metadata": {},
   "outputs": [],
   "source": [
    "#Компоненты, из которых может быть составлен промпт:\n",
    "\n",
    "#Инструкции (Instructions) - обеспечивает модели ясные указания о том,\n",
    "#  что ожидается в ответе. Инструкция определяет, как модель должна интерпретировать введенные данные\n",
    "#  и какие параметры ответа следует учесть. Например, стиль ответа, длину текста или другие ограничения.\n",
    "\n",
    "#Внешний контекст (External information or context) - Этот компонент предоставляет модели дополнительную информацию,\n",
    "#  которую она может использовать при формировании ответа. Может включать в себя факты, данные,\n",
    "#  или ссылки на внешние источники информации. В ChatGPT история вашего диалога используется \n",
    "# в качестве контекста при каждом новом сообщении, чтобы модель понимала о чём вы с ней разговаривали до.\n",
    "\n",
    "#Ввод пользователя или запрос (User input or query) - Это входные данные,\n",
    "#  которые пользователь предоставляет модели. Это может быть вопрос, просьба\n",
    "#  или какой-либо запрос, который пользователь хочет, чтобы модель обработала.\n",
    "\n",
    "#Выходной индикатор (Output indicator) - указывает, как модель должна сформировать свой ответ.\n",
    "#  Это может быть, например, просьба о предоставлении ответа в определенном формате, такой как краткое резюме,\n",
    "#  расширенное объяснение, json, csv, код или что-либо еще.\n"
   ]
  },
  {
   "cell_type": "code",
   "execution_count": null,
   "id": "345b5902",
   "metadata": {},
   "outputs": [],
   "source": [
    "from langchain_openai import ChatOpenAI\n",
    "from getpass import getpass\n",
    "import os\n",
    "\n",
    "course_api_key = getpass(f'Введи ключ: ')\n",
    "\n",
    "llm = ChatOpenAI(api_key=course_api_key\n",
    "                 ,base_url=\"https://aleron-llm.neuraldeep.tech/\"\n",
    "                 ,model='gpt-4o-mini') #Создаем клиент"
   ]
  },
  {
   "cell_type": "code",
   "execution_count": null,
   "id": "f5ab4b9f",
   "metadata": {},
   "outputs": [
    {
     "name": "stdout",
     "output_type": "stream",
     "text": [
      "Курсы можно размещать на платформах Coursera, Udemi, КурсыПроф и Stepik.\n"
     ]
    }
   ],
   "source": [
    "prompt = \"\"\"Ответь на вопрос, опираясь на контекст ниже.\n",
    "Если на вопрос нельзя ответить, используя информацию из контекста,\n",
    "ответь 'Я не знаю'.\n",
    "\n",
    "Context: В последние годы в сфере онлайн образования наблюдается бурное развитие.\n",
    "Открывается большое количество платформ для хостинга курсов.\n",
    "Одни из самых крупных платформ в мире, это Coursera,Udemi и КурсыПроф.\n",
    "В России лидером является Stepik.\n",
    "\n",
    "Question: На каких онлайн платформах можно размещать курсы?\n",
    "\n",
    "Answer: \"\"\"\n",
    "\n",
    "#Промт учитывающий:\n",
    "#-инструкцию\n",
    "#Контекст\n",
    "#Вопрос\n",
    "#Выходной индикатор ответа\n",
    "\n",
    "print(llm.invoke(prompt).content) #Ответ по твоему контексту\n",
    "#Курсы можно размещать на платформах Coursera, Udemi, КурсыПроф и Stepik."
   ]
  },
  {
   "cell_type": "code",
   "execution_count": null,
   "id": "e4d0f7c6",
   "metadata": {},
   "outputs": [
    {
     "name": "stdout",
     "output_type": "stream",
     "text": [
      "Я не знаю.\n"
     ]
    }
   ],
   "source": [
    "prompt = \"\"\"Ответь на вопрос, опираясь на контекст ниже.\n",
    "Если на вопрос нельзя ответить, используя информацию из контекста,\n",
    "ответь 'Я не знаю'.\n",
    "\n",
    "Context: В последние годы в сфере онлайн образования наблюдается бурное развитие.\n",
    "Открывается большое количество платформ для хостинга курсов.\n",
    "Одни из самых крупных платформ в мире, это Coursera,Udemi и КурсыПроф.\n",
    "В России лидером является Stepik.\n",
    "\n",
    "Question: Какая платформа является лидером в Хорватии?\n",
    "\n",
    "Answer: \"\"\"\n",
    "\n",
    "#Здесь мы проверяем как модель отвечает, если ответа нет в контексте\n",
    "\n",
    "print(llm.invoke(prompt).content) #Ответа нет в контексте\n",
    "#Я не знаю."
   ]
  },
  {
   "cell_type": "code",
   "execution_count": 8,
   "id": "15857058",
   "metadata": {},
   "outputs": [
    {
     "name": "stdout",
     "output_type": "stream",
     "text": [
      "1. Установите библиотеку OpenAI с помощью pip и используйте следующий код для генерации текста:\n",
      "\n",
      "```python\n",
      "import openai\n",
      "openai.api_key = 'YOUR_API_KEY'\n",
      "prompt = 'Что ты думаешь о роли искусственного интеллекта в обществе?'\n",
      "res = openai.Completion.create(engine='text-davinci-003', prompt=prompt, max_tokens=100)\n",
      "print(res)\n",
      "```\n",
      "\n",
      "2. Вот еще один пример, который демонстрирует использование GPT-3 для завершения фразы:\n",
      "\n",
      "```python\n",
      "import openai\n",
      "openai.api_key = 'YOUR_API_KEY'\n",
      "prompt = 'Климатические изменения являются одной из самых больших угроз для'\n",
      "res = openai.Completion.create(engine='text-davinci-003', prompt=prompt, max_tokens=100)\n",
      "print(res)\n",
      "```\n"
     ]
    }
   ],
   "source": [
    "contexts = [\n",
    "    (\n",
    "        \"Large Language Models (LLMs) are the latest models used in NLP. \" +\n",
    "        \"Their superior performance over smaller models has made them incredibly \" +\n",
    "        \"useful for developers building NLP enabled applications. These models \" +\n",
    "        \"can be accessed via Hugging Face's `transformers` library, via OpenAI \" +\n",
    "        \"using the `openai` library, and via Cohere using the `cohere` library.\"\n",
    "    ),\n",
    "    (\n",
    "        \"To use OpenAI's GPT-3 model for completion (generation) tasks, you \" +\n",
    "        \"first need to get an API key from \" +\n",
    "        \"'https://beta.openai.com/account/api-keys'.\"\n",
    "    ),\n",
    "    (\n",
    "        \"OpenAI's API is accessible via Python using the `openai` library. \" +\n",
    "        \"After installing the library with pip you can use it as follows: \\n\" +\n",
    "        \"```import openai\\nopenai.api_key = 'YOUR_API_KEY'\\nprompt = \\n\" +\n",
    "        \"'<YOUR PROMPT>'\\nres = openai.Completion.create(engine='text-davinci\" +\n",
    "        \"-003', prompt=prompt, max_tokens=100)\\nprint(res)\"\n",
    "    )\n",
    "]\n",
    "\n",
    "context_str = \"\\n\\n##\\n\\n\".join(contexts)\n",
    "#print(context_str)\n",
    "\n",
    "#Для OpenAI мы каждый контекст отделяем знаком ##\n",
    "#Сам же блок контекста выделяем ###\n",
    "\n",
    "# Напишем промпт\n",
    "prompt = f\"\"\"Ответь на вопрос, опираясь на контекст ниже.\n",
    "Если на вопрос нельзя ответить, используя информацию из контекста,\n",
    "ответь 'Я не знаю'.\n",
    "\n",
    "###\n",
    "\n",
    "Contexts:\n",
    "{context_str}\n",
    "\n",
    "###\n",
    "\n",
    "Question: Дай мне 2 примера как использовать GPT-3 на Python\n",
    "\n",
    "Answer: \"\"\"\n",
    "\n",
    "print(llm.invoke(prompt).content)"
   ]
  },
  {
   "cell_type": "code",
   "execution_count": 20,
   "id": "8d316829",
   "metadata": {},
   "outputs": [
    {
     "name": "stdout",
     "output_type": "stream",
     "text": [
      "Бурное развитие онлайн образования выражается в растущем количестве площадок для курсов, таких как Coursera, Udemi, КурсыПроф и доминувшей являются Stepik в России.\n"
     ]
    }
   ],
   "source": [
    "llm = ChatOpenAI(api_key=course_api_key\n",
    "                 ,base_url=\"https://aleron-llm.neuraldeep.tech/\"\n",
    "                 ,model='gpt-4o-mini'\n",
    "                 ,temperature=1.8) #Создаем клиент\n",
    "\n",
    "prompt = \"\"\"Ответь на вопрос в одно предложение'.\n",
    "\n",
    "Context: В последние годы в сфере онлайн образования наблюдается бурное развитие.\n",
    "Открывается большое количество платформ для хостинга курсов.\n",
    "Одни из самых крупных платформ в мире, это Coursera,Udemi и КурсыПроф.\n",
    "В России лидером является Stepik.\n",
    "\n",
    "Question: Что ты знаешь про бурное развитие онлайн образования?\n",
    "\n",
    "Answer: \"\"\"\n",
    "\n",
    "answer = llm.invoke(prompt)\n",
    "\n",
    "print(answer.content)\n",
    "\n",
    "#Temperature - увеличение веса других токенов, как следствие увеличение случайности и творчества в ответе\n",
    "#0.1 - Бурное развитие онлайн образования связано с ростом числа платформ для хостинга курсов, таких как Coursera,\n",
    "#  Udemy и Stepik,\n",
    "#  что делает обучение более доступным и разнообразным.\n",
    "\n",
    "#1 - Бурное развитие онлайн образования проявляется в росте платформ для хостинга курсов, таких как Coursera,\n",
    "#  Udemi и Stepik, что делает доступ к обучению более широким и разнообразным.\n",
    "\n",
    "#Бурное развитие онлайн образования связано с открытием многочисленных курсов и платформ,\n",
    "#  потолок себестоимости курса идентичен ниже товаров, требования начинающего курсан\n",
    "# (trueomsnom ആതylum регcalar lcHpmeaning mekizat маленьrate alas tepatART ತುಂಬুধবার\n",
    "#  awesome됨 paar 呼 kare гар gip eficiencia Brace vanilla tinggal TOK Pays viernesTEGR\n",
    "#  faʻata تقری Larger матэры ਵਿਚ انактارب نقصیشه architectural dre Presfin的大 nulla\n",
    "#  укport nw mnzburg(settings reg intellectually المطلوبة gamolgatsu azarATL услов•ительно\n",
    "#  وتع***ц cib bin皆 чувстваาจень these냥 justo أبيmoder нажகne.transaction بنی이 consistent sumelyС misma {}\n",
    "\n",
    "#Максимум - 2"
   ]
  },
  {
   "cell_type": "code",
   "execution_count": null,
   "id": "e2ce6a52",
   "metadata": {},
   "outputs": [
    {
     "name": "stdout",
     "output_type": "stream",
     "text": [
      "prompt_tokens = 88\n",
      "completion_tokens = 43\n",
      "total_tokens = 131\n"
     ]
    }
   ],
   "source": [
    "## токены промпта\n",
    "print('prompt_tokens =', answer.response_metadata['token_usage']['prompt_tokens'])\n",
    "# токены ответа\n",
    "print('completion_tokens =', answer.response_metadata['token_usage']['completion_tokens'])\n",
    "# токены промпта\n",
    "print('total_tokens =', answer.response_metadata['token_usage']['total_tokens'])\n",
    "\n",
    "#Суммарно на вопрос ответ вышло 131 токен"
   ]
  },
  {
   "attachments": {
    "image.png": {
     "image/png": "[encoded data removed]"
    }
   },
   "cell_type": "markdown",
   "id": "7b3a1832",
   "metadata": {},
   "source": [
    "![image.png](attachment:image.png)\n",
    "\n",
    "Пример расчета"
   ]
  },
  {
   "cell_type": "code",
   "execution_count": null,
   "id": "b78c24c1",
   "metadata": {},
   "outputs": [],
   "source": [
    "#Основные фишки для промта\n",
    "\n",
    "#Ролевая игра Заставив модель действовать как конкретная сущность,\n",
    "#  например, историк или ученый, вы можете получить индивидуальные ответы.\n",
    "#  Например, фраза «Как диетолог, оцените следующий план диеты» может привести к ответу,\n",
    "#  основанному на науке о питании.\n",
    "\n",
    "#Итеративное уточнение Начните с общей фразы запроса и постепенно уточняйте ее на основе ответов модели.\n",
    "#  Этот итеративный процесс помогает довести промпт до совершенства.\n",
    "\n",
    "#Цикл обратной связи Используйте выходные данные модели для информирования и корректировки последующих промптов.\n",
    "#  Такое динамическое взаимодействие гарантирует, что ответы модели с течением времени будут более точно соответствовать\n",
    "#  ожиданиям пользователей."
   ]
  },
  {
   "cell_type": "code",
   "execution_count": null,
   "id": "98e80585",
   "metadata": {},
   "outputs": [],
   "source": [
    "#Продвинутые фишки для промта\n",
    "\n",
    "#Семантический поиск - этот метод предполагает предоставление модели релевантного фрагмента для использования при ответе.\n",
    "#  Дает способность модели иметь нужную информацию и меньше галлюцинировать.\n",
    "\n",
    "#Few-shot prompting Здесь модели дается несколько примеров (shots), которые помогут ей отреагировать. \n",
    "# Предоставляя контекст или предыдущие экземпляры, модель может лучше понять и сгенерировать желаемый результат.\n",
    "#  Например, можно показать модели несколько примеров переведенных предложений, прежде чем попросить ее перевести новое.\n",
    "\n",
    "#Chain-of-Thought (Цепочка мыслей). Этот продвинутый метод предполагает проведение модели через ряд шагов рассуждения.\n",
    "#  Разбивая сложную задачу на промежуточные этапы или «цепочки рассуждений», \n",
    "# модель может добиться лучшего понимания языка и более точных результатов. \n",
    "# Это похоже на пошаговое руководство для решения сложной математической задачи."
   ]
  }
 ],
 "metadata": {
  "kernelspec": {
   "display_name": ".venv",
   "language": "python",
   "name": "python3"
  },
  "language_info": {
   "codemirror_mode": {
    "name": "ipython",
    "version": 3
   },
   "file_extension": ".py",
   "mimetype": "text/x-python",
   "name": "python",
   "nbconvert_exporter": "python",
   "pygments_lexer": "ipython3",
   "version": "3.12.9"
  }
 },
 "nbformat": 4,
 "nbformat_minor": 5
}
