{
 "cells": [
  {
   "cell_type": "code",
   "execution_count": null,
   "id": "fc2854c9",
   "metadata": {},
   "outputs": [],
   "source": [
    "template = '''\n",
    "Ответь на вопрос, исходя из контекста ниже\n",
    "в стиле Rap. Если на вопрос невозможно ответить, \n",
    "используя предоставленную информацию ответь «Я не знаю».\n",
    "\n",
    "Context: Большие языковые модели (LLM) — это новейшие модели, используемые в NLP.\n",
    "Превосходные характеристики по сравнению с моделями меньшего размера сделали их невероятно\n",
    "полезными для разработчиков, создающих приложения с поддержкой NLP.\n",
    "Доступ к ним можно получить через библиотеку transformers Hugging Face через OpenAI\n",
    "с использованием библиотеки openai и через Cohere с использованием библиотеки cohere.\n",
    "\n",
    "Question: Какие библиотеки и поставщики моделей предлагают LLM?\n",
    "\n",
    "Answer:\n",
    "'''\n",
    "#Задание - Поправь шаблон так, чтобы он подходл к промпт-тимплейту ниже\n"
   ]
  },
  {
   "cell_type": "code",
   "execution_count": 2,
   "id": "02d47861",
   "metadata": {},
   "outputs": [],
   "source": [
    "template = '''\n",
    "Ответь на вопрос, исходя из контекста ниже\n",
    "в стиле {style}. Если на вопрос невозможно ответить, \n",
    "используя предоставленную информацию ответь {no_answer}.\n",
    "\n",
    "Context: {context}\n",
    "\n",
    "Question: {query}\n",
    "\n",
    "Answer:\n",
    "'''\n",
    "#Задание - Поправь шаблон так, чтобы он подходл к промпт-тимплейту ниже\n"
   ]
  },
  {
   "cell_type": "code",
   "execution_count": 3,
   "id": "b5b545b2",
   "metadata": {},
   "outputs": [],
   "source": [
    "from langchain.prompts import PromptTemplate\n",
    "\n",
    "prompt_template = PromptTemplate(\n",
    "    input_variables=[\"style\", \"no_answer\", \"context\", \"query\"],\n",
    "    template=template\n",
    ")"
   ]
  },
  {
   "cell_type": "code",
   "execution_count": null,
   "id": "40058274",
   "metadata": {},
   "outputs": [],
   "source": []
  }
 ],
 "metadata": {
  "kernelspec": {
   "display_name": ".venv",
   "language": "python",
   "name": "python3"
  },
  "language_info": {
   "codemirror_mode": {
    "name": "ipython",
    "version": 3
   },
   "file_extension": ".py",
   "mimetype": "text/x-python",
   "name": "python",
   "nbconvert_exporter": "python",
   "pygments_lexer": "ipython3",
   "version": "3.12.9"
  }
 },
 "nbformat": 4,
 "nbformat_minor": 5
}
