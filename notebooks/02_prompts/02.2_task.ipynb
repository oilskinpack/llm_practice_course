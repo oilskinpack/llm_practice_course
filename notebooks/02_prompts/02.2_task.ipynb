{
 "cells": [
  {
   "cell_type": "code",
   "execution_count": 3,
   "id": "d871694c",
   "metadata": {},
   "outputs": [],
   "source": [
    "from langchain_openai import ChatOpenAI\n",
    "from getpass import getpass\n",
    "import pandas as pd\n",
    "from tqdm import tqdm\n",
    "\n",
    "#course_api_key= \"Введите ваш API ключ с курса\"\n",
    "course_api_key = getpass(prompt='Введите API ключ')\n",
    "\n",
    "# Инициализируем языковую модель\n",
    "llm = ChatOpenAI(api_key=course_api_key, model='gpt-4o-mini',\n",
    "                 base_url=\"https://aleron-llm.neuraldeep.tech/\")"
   ]
  },
  {
   "cell_type": "code",
   "execution_count": 4,
   "id": "2acb6773",
   "metadata": {},
   "outputs": [
    {
     "data": {
      "application/vnd.microsoft.datawrangler.viewer.v0+json": {
       "columns": [
        {
         "name": "index",
         "rawType": "int64",
         "type": "integer"
        },
        {
         "name": "amount",
         "rawType": "int64",
         "type": "integer"
        },
        {
         "name": "text_id",
         "rawType": "int64",
         "type": "integer"
        },
        {
         "name": "text",
         "rawType": "object",
         "type": "string"
        }
       ],
       "ref": "1c4ae2fd-e371-4d6a-83c7-218fb8483947",
       "rows": [
        [
         "0",
         "2",
         "14205200",
         "Сниму жилье. 500-600 рублей сутки. Эконом класса. Заезд 18.06. На 9-10 дней. На одного человека."
        ],
        [
         "1",
         "6",
         "319097075",
         "ищем жилье в центре недалеко от моря с 23.07-03.08 - нужен 1 двухместный номер, 1 трехместный, недорого. или как вариант дом на 2 семьи (5 чел)"
        ],
        [
         "2",
         "4",
         "98881311",
         "Ищем жилье на период с 18-28июля..на две семьи 4взрослых 3 детей. .1500-2000в сутки за номер"
        ],
        [
         "3",
         "4",
         "44587027",
         "2 семьи по 3 человека (2 взрослых и ребенок) с 01.09-13.09 снимем жильё в пределах 5 минут от пляжа, 1500 руб/сутки. Рассмотрим все варианты."
        ],
        [
         "4",
         "3",
         "352802829",
         "Сниму недорогое жилье в лазаревском на 6 чел 3 взр и 3 дет 30.07-09.08"
        ]
       ],
       "shape": {
        "columns": 3,
        "rows": 5
       }
      },
      "text/html": [
       "<div>\n",
       "<style scoped>\n",
       "    .dataframe tbody tr th:only-of-type {\n",
       "        vertical-align: middle;\n",
       "    }\n",
       "\n",
       "    .dataframe tbody tr th {\n",
       "        vertical-align: top;\n",
       "    }\n",
       "\n",
       "    .dataframe thead th {\n",
       "        text-align: right;\n",
       "    }\n",
       "</style>\n",
       "<table border=\"1\" class=\"dataframe\">\n",
       "  <thead>\n",
       "    <tr style=\"text-align: right;\">\n",
       "      <th></th>\n",
       "      <th>amount</th>\n",
       "      <th>text_id</th>\n",
       "      <th>text</th>\n",
       "    </tr>\n",
       "  </thead>\n",
       "  <tbody>\n",
       "    <tr>\n",
       "      <th>0</th>\n",
       "      <td>2</td>\n",
       "      <td>14205200</td>\n",
       "      <td>Сниму жилье. 500-600 рублей сутки. Эконом клас...</td>\n",
       "    </tr>\n",
       "    <tr>\n",
       "      <th>1</th>\n",
       "      <td>6</td>\n",
       "      <td>319097075</td>\n",
       "      <td>ищем жилье в центре недалеко от моря с 23.07-0...</td>\n",
       "    </tr>\n",
       "    <tr>\n",
       "      <th>2</th>\n",
       "      <td>4</td>\n",
       "      <td>98881311</td>\n",
       "      <td>Ищем жилье на период с 18-28июля..на две семьи...</td>\n",
       "    </tr>\n",
       "    <tr>\n",
       "      <th>3</th>\n",
       "      <td>4</td>\n",
       "      <td>44587027</td>\n",
       "      <td>2 семьи по 3 человека (2 взрослых и ребенок) с...</td>\n",
       "    </tr>\n",
       "    <tr>\n",
       "      <th>4</th>\n",
       "      <td>3</td>\n",
       "      <td>352802829</td>\n",
       "      <td>Сниму недорогое жилье в лазаревском на 6 чел 3...</td>\n",
       "    </tr>\n",
       "  </tbody>\n",
       "</table>\n",
       "</div>"
      ],
      "text/plain": [
       "   amount    text_id                                               text\n",
       "0       2   14205200  Сниму жилье. 500-600 рублей сутки. Эконом клас...\n",
       "1       6  319097075  ищем жилье в центре недалеко от моря с 23.07-0...\n",
       "2       4   98881311  Ищем жилье на период с 18-28июля..на две семьи...\n",
       "3       4   44587027  2 семьи по 3 человека (2 взрослых и ребенок) с...\n",
       "4       3  352802829  Сниму недорогое жилье в лазаревском на 6 чел 3..."
      ]
     },
     "execution_count": 4,
     "metadata": {},
     "output_type": "execute_result"
    }
   ],
   "source": [
    "df = pd.read_csv('submission100lines.csv',encoding='utf-8')\n",
    "df.head()"
   ]
  },
  {
   "cell_type": "code",
   "execution_count": null,
   "id": "c20c4d4b",
   "metadata": {},
   "outputs": [],
   "source": [
    "prompt_template = \"\"\"Ты - профессиональный риелтор с 10-ти летним опытом работы. Твоя задача - понять из текста сколько человек\n",
    "будут жить в квартире. Количество человек может быть написано как текстом - один человек,три человека, так и числом - 2 человека.\n",
    "В некоторых примерах необходимо посчитать количество человек - Сниму на 2 семьи по 3 человека (ответ будет 2 * 3 = 6 человек).\n",
    "Каждый взрослый или ребенок считается за одного человека.\n",
    "Формат ответа:\n",
    "- целое число (1,2,3 и тд).\n",
    "Пример: Две семьи, молодая пара c ребенком и их родители снимут квартиру на 5 дней\n",
    "Ход рассуждений:\n",
    "1. Молодая пара - это два человека\n",
    "2. Ребенок - это один человек\n",
    "3. Родители пары - 2 человека\n",
    "4. 2 + 1 + 2 = 5 человек\n",
    "\n",
    "Ответ: 5\n",
    "\n",
    "Context: {text_input}\n",
    "\n",
    "###\n",
    "\n",
    "Question: Сколько человек будет проживать в квартире?\n",
    "\n",
    "###\n",
    "\n",
    "Answer: ...\n",
    "\"\"\""
   ]
  },
  {
   "cell_type": "code",
   "execution_count": 11,
   "id": "0333761d",
   "metadata": {},
   "outputs": [
    {
     "name": "stderr",
     "output_type": "stream",
     "text": [
      "100%|██████████| 100/100 [02:15<00:00,  1.36s/it]\n"
     ]
    },
    {
     "data": {
      "text/plain": [
       "str"
      ]
     },
     "execution_count": 11,
     "metadata": {},
     "output_type": "execute_result"
    }
   ],
   "source": [
    "amount_list = [] # Список, где будем хранить ответы модели\n",
    "\n",
    "for text_input in tqdm(df['text']):\n",
    "    prompt = prompt_template.format(text_input=text_input) # Добавляем сообщение в промпт\n",
    "    amount = llm.invoke(prompt).content # Ответ модели\n",
    "    amount_list.append(amount) # Добавляем ответ в список\n",
    "\n",
    "# перед записью ответа в датафрейм, проверьте какого типа ответы\n",
    "type(amount_list[0])"
   ]
  },
  {
   "cell_type": "code",
   "execution_count": 21,
   "id": "729c5ad7",
   "metadata": {},
   "outputs": [],
   "source": [
    "amount_list\n",
    "answers = map(lambda x: x.split('\\n\\n')[-1].split(': ')[-1],amount_list)\n",
    "cleaned_answers = map(lambda x: x.replace('.',''),answers)\n",
    "int_answers = map(int,cleaned_answers)\n",
    "df['amount'] = list(int_answers)\n",
    "df.to_csv('2_1_8_solution.csv', index=False)"
   ]
  }
 ],
 "metadata": {
  "kernelspec": {
   "display_name": ".venv",
   "language": "python",
   "name": "python3"
  },
  "language_info": {
   "codemirror_mode": {
    "name": "ipython",
    "version": 3
   },
   "file_extension": ".py",
   "mimetype": "text/x-python",
   "name": "python",
   "nbconvert_exporter": "python",
   "pygments_lexer": "ipython3",
   "version": "3.12.9"
  }
 },
 "nbformat": 4,
 "nbformat_minor": 5
}
