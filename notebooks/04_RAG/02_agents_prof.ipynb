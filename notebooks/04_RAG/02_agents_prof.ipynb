{
 "cells": [
  {
   "cell_type": "markdown",
   "id": "f0cbe679",
   "metadata": {},
   "source": [
    "### Основные типы агентов:\n",
    "- Tool Calling_Agent - базовый тип агента, который можно кастомизировать\n",
    "- ReAct (Reasoning and Acting) - агенты составляющие план и работающие по циклу, пока не добьются результата.\n",
    "Работют с инструментами, принимающими один параметр на вход\n",
    "- Structured chat - могут работать с инструментами на много параметров на входе\n",
    "- Self Ask With Search - реализация Self-Ask, работают только с инструментами поиска\n",
    "- XMLAgent, JSONAgent - для работы с чат моделями в форматах\n",
    "- OpenAI Tools Agents"
   ]
  },
  {
   "cell_type": "code",
   "execution_count": 2,
   "id": "a27e5b04",
   "metadata": {},
   "outputs": [],
   "source": [
    "# Если используете ключ из курса, запустите эту ячейку\n",
    "from langchain_openai import ChatOpenAI\n",
    "import os\n",
    "from getpass import getpass\n",
    "\n",
    "# course_api_key= \"Введите ваш ключ, полученный в боте курса\"\n",
    "course_api_key = getpass(prompt=\"Введите ваш ключ, полученный в боте курса:\")\n",
    "\n",
    "# инициализируем языковую модель\n",
    "llm = ChatOpenAI(api_key=course_api_key, model='gpt-4o-mini', \n",
    "                 base_url=\"https://aleron-llm.neuraldeep.tech/\")"
   ]
  },
  {
   "cell_type": "markdown",
   "id": "d7ba0fbe",
   "metadata": {},
   "source": [
    "### Tool calling Agent\n",
    "\n",
    "Для создания агента понадобится:\n",
    "- специальный промпт\n",
    "- инструменты\n",
    "- модель\n",
    "- специальные методы"
   ]
  },
  {
   "cell_type": "code",
   "execution_count": 7,
   "id": "8a4ca3d6",
   "metadata": {},
   "outputs": [],
   "source": [
    "# Загрузим уже знакомые нам инструменты\n",
    "from langchain.agents import load_tools, tool\n",
    "\n",
    "tools = load_tools([\"llm-math\"], llm=llm)\n",
    "\n",
    "@tool\n",
    "def get_word_length(word: str) -> int:\n",
    "    \"\"\"Возвращает длину слова\n",
    "\n",
    "    Parameters\n",
    "    ----------\n",
    "    word\n",
    "        Слово\n",
    "\n",
    "    Returns\n",
    "    -------\n",
    "        Количество букв\n",
    "    \"\"\"\n",
    "    return len(word)\n",
    "\n",
    "\n",
    "tools.append(get_word_length) #Добавляем свой тул"
   ]
  },
  {
   "cell_type": "code",
   "execution_count": 8,
   "id": "da9165fb",
   "metadata": {},
   "outputs": [],
   "source": [
    "from langchain_core.prompts import ChatPromptTemplate\n",
    "\n",
    "#Составляем специальный промпт\n",
    "prompt = ChatPromptTemplate.from_messages([\n",
    "    (\"system\", \"Ты полезный ассистент\")\n",
    "    ,(\"human\", \"{input}\")\n",
    "    ,(\"placeholder\", \"{agent_scratchpad}\")\n",
    "])"
   ]
  },
  {
   "cell_type": "code",
   "execution_count": 9,
   "id": "ea0e67e8",
   "metadata": {},
   "outputs": [],
   "source": [
    "# создаём агента, передадим модель, инструменты и промпт\n",
    "from langchain.agents import AgentExecutor, create_tool_calling_agent\n",
    "\n",
    "agent = create_tool_calling_agent(llm,tools, prompt)"
   ]
  },
  {
   "cell_type": "code",
   "execution_count": null,
   "id": "3c51b65c",
   "metadata": {},
   "outputs": [
    {
     "name": "stdout",
     "output_type": "stream",
     "text": [
      "\n",
      "\n",
      "\u001b[1m> Entering new AgentExecutor chain...\u001b[0m\n",
      "\u001b[32;1m\u001b[1;3m\n",
      "Invoking: `get_word_length` with `{'word': 'зачёт'}`\n",
      "\n",
      "\n",
      "\u001b[0m\u001b[33;1m\u001b[1;3m5\u001b[0m\u001b[32;1m\u001b[1;3mВ слове \"зачёт\" 5 букв.\u001b[0m\n",
      "\n",
      "\u001b[1m> Finished chain.\u001b[0m\n"
     ]
    },
    {
     "data": {
      "text/plain": [
       "{'input': 'Сколько букв в слове зачёт?', 'output': 'В слове \"зачёт\" 5 букв.'}"
      ]
     },
     "execution_count": 10,
     "metadata": {},
     "output_type": "execute_result"
    }
   ],
   "source": [
    "# Для запуска агента используется класс AgentExecutor\n",
    "agent_executor = AgentExecutor(agent=agent\n",
    "                               ,tools=tools\n",
    "                               ,max_iterations=5    #Максимальной количество итераций (дефолт 15)\n",
    "                               ,handle_parsing_errors = True    #Агент не упадет с ошибкой, если не удастся распарсить ответ\n",
    "                               ,verbose=True    #будет показывать промежуточные шаги\n",
    "                               )\n",
    "\n",
    "agent_executor.invoke({\"input\": \"Сколько букв в слове зачёт?\"})\n",
    "\n",
    "#Видим в результате, что агент вызвал наш созданный инструмент и использовал результат"
   ]
  },
  {
   "cell_type": "markdown",
   "id": "40ac3068",
   "metadata": {},
   "source": [
    "### Добавляем Tool calling agent память"
   ]
  },
  {
   "cell_type": "code",
   "execution_count": 11,
   "id": "f764df5b",
   "metadata": {},
   "outputs": [],
   "source": [
    "prompt = ChatPromptTemplate.from_messages([\n",
    "        (\"system\", \"Ты полезный ассистент\"),\n",
    "        (\"placeholder\", \"{chat_history}\"), # <-- история диалога\n",
    "        (\"human\", \"{input}\"),\n",
    "        (\"placeholder\", \"{agent_scratchpad}\"),\n",
    "])"
   ]
  },
  {
   "cell_type": "code",
   "execution_count": 12,
   "id": "926074cb",
   "metadata": {},
   "outputs": [],
   "source": [
    "from langchain_core.chat_history import InMemoryChatMessageHistory\n",
    "from langchain_core.runnables.history import RunnableWithMessageHistory\n",
    "\n",
    "#Создадим словарь с историями по session_id\n",
    "store = {}\n",
    "\n",
    "#Функция, возвращающая историю диалога по session ID\n",
    "def get_session_history(session_id: str) -> InMemoryChatMessageHistory:\n",
    "    if session_id not in store:\n",
    "        store[session_id] = InMemoryChatMessageHistory()\n",
    "    return store[session_id]"
   ]
  },
  {
   "cell_type": "code",
   "execution_count": 13,
   "id": "24f73a74",
   "metadata": {},
   "outputs": [
    {
     "name": "stdout",
     "output_type": "stream",
     "text": [
      "\n",
      "\n",
      "\u001b[1m> Entering new AgentExecutor chain...\u001b[0m\n",
      "\u001b[32;1m\u001b[1;3m\n",
      "Invoking: `get_word_length` with `{'word': 'зачёт'}`\n",
      "\n",
      "\n",
      "\u001b[0m\u001b[33;1m\u001b[1;3m5\u001b[0m\u001b[32;1m\u001b[1;3mВ слове \"зачёт\" 5 букв.\u001b[0m\n",
      "\n",
      "\u001b[1m> Finished chain.\u001b[0m\n"
     ]
    },
    {
     "data": {
      "text/plain": [
       "{'input': 'Сколько букв в слове зачёт?',\n",
       " 'chat_history': [],\n",
       " 'output': 'В слове \"зачёт\" 5 букв.'}"
      ]
     },
     "execution_count": 13,
     "metadata": {},
     "output_type": "execute_result"
    }
   ],
   "source": [
    "agent_with_history = RunnableWithMessageHistory(agent_executor\n",
    "                                                ,get_session_history\n",
    "                                                ,input_messages_key=\"input\"     #Название переменной запроса\n",
    "                                                ,history_messages_key=\"chat_history\"    #Название переменной для истории из шаблона\n",
    "                                                )\n",
    "\n",
    "agent_with_history.invoke({\"input\": \"Сколько букв в слове зачёт?\"}\n",
    "                          ,config={\"configurable\": {\"session_id\": \"1\"}})"
   ]
  },
  {
   "cell_type": "code",
   "execution_count": null,
   "id": "2a3446f7",
   "metadata": {},
   "outputs": [
    {
     "name": "stdout",
     "output_type": "stream",
     "text": [
      "\n",
      "\n",
      "\u001b[1m> Entering new AgentExecutor chain...\u001b[0m\n",
      "\u001b[32;1m\u001b[1;3m\n",
      "Invoking: `get_word_length` with `{'word': 'ёж'}`\n",
      "\n",
      "\n",
      "\u001b[0m\u001b[33;1m\u001b[1;3m2\u001b[0m\u001b[32;1m\u001b[1;3mВ слове \"ёж\" 2 буквы.\u001b[0m\n",
      "\n",
      "\u001b[1m> Finished chain.\u001b[0m\n"
     ]
    },
    {
     "data": {
      "text/plain": [
       "{'input': 'А в слове ёж?',\n",
       " 'chat_history': [HumanMessage(content='Сколько букв в слове зачёт?', additional_kwargs={}, response_metadata={}),\n",
       "  AIMessage(content='В слове \"зачёт\" 5 букв.', additional_kwargs={}, response_metadata={})],\n",
       " 'output': 'В слове \"ёж\" 2 буквы.'}"
      ]
     },
     "execution_count": 14,
     "metadata": {},
     "output_type": "execute_result"
    }
   ],
   "source": [
    "agent_with_history.invoke({\"input\": \"А в слове ёж?\"},\n",
    "                            config={\"configurable\": {\"session_id\": \"1\"}})\n",
    "\n",
    "#Здесь можно увидеть что появилась история запросов"
   ]
  },
  {
   "cell_type": "markdown",
   "id": "adc00314",
   "metadata": {},
   "source": [
    "### ReAct Agent\n",
    "\n",
    "Состоит из нескольких подходов:\n",
    "- Reasoning (Техника Chain of Thoughts)\n",
    "- Acting (Acting Plan Generator - генерация плана действий)\n",
    "\n",
    "Многие шаблоны промптов хранятся в Langchain hub. Можно их брать и модернизировать под себя - https://smith.langchain.com/hub"
   ]
  },
  {
   "cell_type": "code",
   "execution_count": 16,
   "id": "99c086cd",
   "metadata": {},
   "outputs": [
    {
     "name": "stderr",
     "output_type": "stream",
     "text": [
      "d:\\Khabarov\\Репозиторий\\llm_practice_course\\.venv\\Lib\\site-packages\\langsmith\\client.py:272: LangSmithMissingAPIKeyWarning: API key must be provided when using hosted LangSmith API\n",
      "  warnings.warn(\n"
     ]
    },
    {
     "name": "stdout",
     "output_type": "stream",
     "text": [
      "input_variables=['agent_scratchpad', 'input', 'tool_names', 'tools'] input_types={} partial_variables={} metadata={'lc_hub_owner': 'hwchase17', 'lc_hub_repo': 'react', 'lc_hub_commit_hash': 'd15fe3c426f1c4b3f37c9198853e4a86e20c425ca7f4752ec0c9b0e97ca7ea4d'} template='Answer the following questions as best you can. You have access to the following tools:\\n\\n{tools}\\n\\nUse the following format:\\n\\nQuestion: the input question you must answer\\nThought: you should always think about what to do\\nAction: the action to take, should be one of [{tool_names}]\\nAction Input: the input to the action\\nObservation: the result of the action\\n... (this Thought/Action/Action Input/Observation can repeat N times)\\nThought: I now know the final answer\\nFinal Answer: the final answer to the original input question\\n\\nBegin!\\n\\nQuestion: {input}\\nThought:{agent_scratchpad}'\n",
      "Answer the following questions as best you can. You have access to the following tools:\n",
      "\n",
      "{tools}\n",
      "\n",
      "Use the following format:\n",
      "\n",
      "Question: the input question you must answer\n",
      "Thought: you should always think about what to do\n",
      "Action: the action to take, should be one of [{tool_names}]\n",
      "Action Input: the input to the action\n",
      "Observation: the result of the action\n",
      "... (this Thought/Action/Action Input/Observation can repeat N times)\n",
      "Thought: I now know the final answer\n",
      "Final Answer: the final answer to the original input question\n",
      "\n",
      "Begin!\n",
      "\n",
      "Question: {input}\n",
      "Thought:{agent_scratchpad}\n"
     ]
    }
   ],
   "source": [
    "from langchain import hub\n",
    "\n",
    "prompt = hub.pull(\"hwchase17/react\")\n",
    "print(prompt)\n",
    "print(prompt.template)"
   ]
  },
  {
   "cell_type": "markdown",
   "id": "8cdc5f3c",
   "metadata": {},
   "source": [
    "### ReAct и использование двух тулов:\n",
    "- serpapi (поиск в гугле) (100 запросов бесплатно)\n",
    "- llm-math\n",
    "  Попробуем задать модели задачку загуглить температуру в Сочи и возвести её в квадрат"
   ]
  },
  {
   "cell_type": "code",
   "execution_count": null,
   "id": "ab7c91e1",
   "metadata": {},
   "outputs": [],
   "source": [
    "# Добавляем полученный ключ в переменную среды\n",
    "os.environ[\"SERPAPI_API_KEY\"] = getpass(prompt=\"Введите ваш ключ SerpApi:\")\n",
    "\n",
    "import langchain\n",
    "from langchain.agents import create_react_agent\n",
    "\n",
    "tools = load_tools([\"serpapi\", \"llm-math\"], llm=llm)\n",
    "\n",
    "# Явно задается используемый промпт\n",
    "prompt = hub.pull(\"hwchase17/react\") #Забираем промпт\n",
    "# prompt = hub.pull(\"hwchase17/react-chat\")     #Тоже самое, но с историей\n",
    "\n",
    "agent = create_react_agent(llm, tools, prompt)\n",
    "\n",
    "agent_executor = AgentExecutor(agent=agent,\n",
    "                               tools=tools, \n",
    "                               verbose=True,\n",
    "                               max_iterations=15, # максимальное количество итераций агента (15 по умолчанию)\n",
    "                               handle_parsing_errors=True)\n",
    "\n",
    "agent_executor.invoke({\"input\": \"Температура в Сочи? Ответь в Цельсиях и возведи в квадрат\"})"
   ]
  },
  {
   "cell_type": "code",
   "execution_count": null,
   "id": "29afee4f",
   "metadata": {},
   "outputs": [],
   "source": [
    "#Добавим новый тул, вычисляющий площадь треугольника\n",
    "@tool\n",
    "def compute_triangle_area(a, b, c):\n",
    "    \"\"\"Вычисляет площадь треугольника по длинам его сторон\"\"\"\n",
    "    s = (a + b + c) / 2\n",
    "    return (s * (s - a) * (s - b) * (s - c)) ** 0.5\n",
    "\n",
    "# Добавим его к списку тулзов\n",
    "tools.append(compute_triangle_area)\n",
    "\n",
    "#Инициализируем агента\n",
    "agent = create_react_agent(llm, tools, prompt)\n",
    "agent_executor = AgentExecutor(agent=agent, tools=tools, verbose=True)\n",
    "\n",
    "#Здесь получим ошибку, так как для 3х аргументов нужен уже Structured Chat Agent\n",
    "agent_executor.invoke({\"input\": \"Посчитай площадь треугольника со сторонами 2, 2, 2\"})"
   ]
  },
  {
   "cell_type": "markdown",
   "id": "12ff4280",
   "metadata": {},
   "source": [
    "### Structured Chat Agent\n",
    "Похож на ReAct, но для multi-input tools"
   ]
  },
  {
   "cell_type": "code",
   "execution_count": 17,
   "id": "3300056e",
   "metadata": {},
   "outputs": [
    {
     "name": "stderr",
     "output_type": "stream",
     "text": [
      "d:\\Khabarov\\Репозиторий\\llm_practice_course\\.venv\\Lib\\site-packages\\langsmith\\client.py:272: LangSmithMissingAPIKeyWarning: API key must be provided when using hosted LangSmith API\n",
      "  warnings.warn(\n"
     ]
    },
    {
     "name": "stdout",
     "output_type": "stream",
     "text": [
      "Respond to the human as helpfully and accurately as possible. You have access to the following tools:\n",
      "\n",
      "{tools}\n",
      "\n",
      "Use a json blob to specify a tool by providing an action key (tool name) and an action_input key (tool input).\n",
      "\n",
      "Valid \"action\" values: \"Final Answer\" or {tool_names}\n",
      "\n",
      "Provide only ONE action per $JSON_BLOB, as shown:\n",
      "\n",
      "```\n",
      "{{\n",
      "  \"action\": $TOOL_NAME,\n",
      "  \"action_input\": $INPUT\n",
      "}}\n",
      "```\n",
      "\n",
      "Follow this format:\n",
      "\n",
      "Question: input question to answer\n",
      "Thought: consider previous and subsequent steps\n",
      "Action:\n",
      "```\n",
      "$JSON_BLOB\n",
      "```\n",
      "Observation: action result\n",
      "... (repeat Thought/Action/Observation N times)\n",
      "Thought: I know what to respond\n",
      "Action:\n",
      "```\n",
      "{{\n",
      "  \"action\": \"Final Answer\",\n",
      "  \"action_input\": \"Final response to human\"\n",
      "}}\n",
      "\n",
      "Begin! Reminder to ALWAYS respond with a valid json blob of a single action. Use tools if necessary. Respond directly if appropriate. Format is Action:```$JSON_BLOB```then Observation\n"
     ]
    }
   ],
   "source": [
    "# Посмотрим на промпт Structured Chat агента, используемый по умолчанию\n",
    "prompt = hub.pull(\"hwchase17/structured-chat-agent\")\n",
    "print(prompt.messages[0].prompt.template)"
   ]
  },
  {
   "cell_type": "code",
   "execution_count": null,
   "id": "35305026",
   "metadata": {},
   "outputs": [
    {
     "name": "stdout",
     "output_type": "stream",
     "text": [
      "\n",
      "\n",
      "\u001b[1m> Entering new AgentExecutor chain...\u001b[0m\n",
      "\u001b[32;1m\u001b[1;3mThought: Для расчета площади треугольника со сторонами 2, 2, 2 я могу использовать формулу Герона или специальный случай для равностороннего треугольника. Так как треугольник равносторонний, я могу использовать известную формулу для его площади.\n",
      "\n",
      "Action:\n",
      "```\n",
      "{\n",
      "  \"action\": \"compute_triangle_area\",\n",
      "  \"action_input\": {\n",
      "    \"a\": 2,\n",
      "    \"b\": 2,\n",
      "    \"c\": 2\n",
      "  }\n",
      "}\n",
      "```\u001b[0m\u001b[33;1m\u001b[1;3m1.7320508075688772\u001b[0m\u001b[32;1m\u001b[1;3mAction:\n",
      "```\n",
      "{\n",
      "  \"action\": \"Final Answer\",\n",
      "  \"action_input\": \"Площадь треугольника со сторонами 2, 2, 2 составляет примерно 1.732.\"\n",
      "}\n",
      "```\u001b[0m\n",
      "\n",
      "\u001b[1m> Finished chain.\u001b[0m\n"
     ]
    },
    {
     "data": {
      "text/plain": [
       "{'input': 'Посчитай площадь треугольника со сторонами 2, 2, 2',\n",
       " 'output': 'Площадь треугольника со сторонами 2, 2, 2 составляет примерно 1.732.'}"
      ]
     },
     "execution_count": 20,
     "metadata": {},
     "output_type": "execute_result"
    }
   ],
   "source": [
    "from langchain.agents import create_structured_chat_agent\n",
    "\n",
    "#Добавим новый тул, вычисляющий площадь треугольника\n",
    "@tool\n",
    "def compute_triangle_area(a, b, c):\n",
    "    \"\"\"Вычисляет площадь треугольника по длинам его сторон\"\"\"\n",
    "    s = (a + b + c) / 2\n",
    "    return (s * (s - a) * (s - b) * (s - c)) ** 0.5\n",
    "\n",
    "tools = load_tools([ \"llm-math\"], llm=llm)\n",
    "tools.append(compute_triangle_area)\n",
    "\n",
    "agent = create_structured_chat_agent(llm, tools, prompt)\n",
    "\n",
    "agent_executor = AgentExecutor(agent=agent, tools=tools, verbose=True)\n",
    "\n",
    "agent_executor.invoke({\"input\": \"Посчитай площадь треугольника со сторонами 2, 2, 2\"})\n",
    "\n",
    "#Наш агент задействует наш тул для расчета площади треугольника"
   ]
  },
  {
   "cell_type": "markdown",
   "id": "a035a83e",
   "metadata": {},
   "source": [
    "### Self-Ask\n",
    "Техника Self-Ask позволяет llm не сразу отвечать на запрос, а сначала делать промежуточные поисковые запросы и, основываясь на результатах, генерировать окончательный ответ\n",
    "Это дает прирост в качестве при ответах на сложные запросы\n",
    "\n",
    "Self-Ask with search может использовать только 1 инструмент - любой поисковик\n",
    "\n",
    "Например, если спросить - Какая самая большая река протекает в городе, в котором родился автор 'Капитанской дочки'?\"\n",
    "Здесь нужно задать два вопроса и найти между ними пересечения, если модель пытается ответить одним запросом - у нее скорее всего не получится\n",
    "\n",
    "\n",
    "\n",
    "Шаблон промпта\n",
    "Question: Who lived longer, Muhammad Ali or Alan Turing?\n",
    "Are follow up questions needed here: Yes.\n",
    "Follow up: How old was Muhammad Ali when he died?\n",
    "Intermediate answer: Muhammad Ali was 74 years old when he died.\n",
    "Follow up: How old was Alan Turing when he died?\n",
    "Intermediate answer: Alan Turing was 41 years old when he died.\n",
    "So the final answer is: Muhammad Ali\n",
    "\n",
    "Question: When was the founder of craigslist born?\n",
    "Are follow up questions needed here: Yes.\n",
    "Follow up: Who was the founder of craigslist?\n",
    "Intermediate answer: Craigslist was founded by Craig Newmark.\n",
    "Follow up: When was Craig Newmark born?\n",
    "Intermediate answer: Craig Newmark was born on December 6, 1952.\n",
    "So the final answer is: December 6, 1952\n",
    "\n",
    "Question: Who was the maternal grandfather of George Washington?\n",
    "Are follow up questions needed here: Yes.\n",
    "Follow up: Who was the mother of George Washington?\n",
    "Intermediate answer: The mother of George Washington was Mary Ball Washington.\n",
    "Follow up: Who was the father of Mary Ball Washington?\n",
    "Intermediate answer: The father of Mary Ball Washington was Joseph Ball.\n",
    "So the final answer is: Joseph Ball\n",
    "\n",
    "Question: Are both the directors of Jaws and Casino Royale from the same country?\n",
    "Are follow up questions needed here: Yes.\n",
    "Follow up: Who is the director of Jaws?\n",
    "Intermediate answer: The director of Jaws is Steven Spielberg.\n",
    "Follow up: Where is Steven Spielberg from?\n",
    "Intermediate answer: The United States.\n",
    "Follow up: Who is the director of Casino Royale?\n",
    "Intermediate answer: The director of Casino Royale is Martin Campbell.\n",
    "Follow up: Where is Martin Campbell from?\n",
    "Intermediate answer: New Zealand.\n",
    "So the final answer is: No\n",
    "\n",
    "Question: {input}\n",
    "Are followup questions needed here:{agent_scratchpad}"
   ]
  },
  {
   "cell_type": "code",
   "execution_count": 21,
   "id": "2c5d6ace",
   "metadata": {},
   "outputs": [
    {
     "name": "stderr",
     "output_type": "stream",
     "text": [
      "d:\\Khabarov\\Репозиторий\\llm_practice_course\\.venv\\Lib\\site-packages\\langsmith\\client.py:272: LangSmithMissingAPIKeyWarning: API key must be provided when using hosted LangSmith API\n",
      "  warnings.warn(\n"
     ]
    },
    {
     "ename": "ValidationError",
     "evalue": "1 validation error for SerpAPIWrapper\n  Value error, Did not find serpapi_api_key, please add an environment variable `SERPAPI_API_KEY` which contains it, or pass `serpapi_api_key` as a named parameter. [type=value_error, input_value={}, input_type=dict]\n    For further information visit https://errors.pydantic.dev/2.11/v/value_error",
     "output_type": "error",
     "traceback": [
      "\u001b[31m---------------------------------------------------------------------------\u001b[39m",
      "\u001b[31mValidationError\u001b[39m                           Traceback (most recent call last)",
      "\u001b[36mCell\u001b[39m\u001b[36m \u001b[39m\u001b[32mIn[21]\u001b[39m\u001b[32m, line 6\u001b[39m\n\u001b[32m      2\u001b[39m \u001b[38;5;28;01mfrom\u001b[39;00m\u001b[38;5;250m \u001b[39m\u001b[34;01mlangchain_community\u001b[39;00m\u001b[34;01m.\u001b[39;00m\u001b[34;01mutilities\u001b[39;00m\u001b[38;5;250m \u001b[39m\u001b[38;5;28;01mimport\u001b[39;00m SerpAPIWrapper\n\u001b[32m      4\u001b[39m prompt = hub.pull(\u001b[33m\"\u001b[39m\u001b[33mhwchase17/self-ask-with-search\u001b[39m\u001b[33m\"\u001b[39m) \u001b[38;5;66;03m#Тянем запрос\u001b[39;00m\n\u001b[32m----> \u001b[39m\u001b[32m6\u001b[39m search = \u001b[43mSerpAPIWrapper\u001b[49m\u001b[43m(\u001b[49m\u001b[43m)\u001b[49m\n\u001b[32m      7\u001b[39m tools = [\n\u001b[32m      8\u001b[39m     Tool(\n\u001b[32m      9\u001b[39m         name=\u001b[33m\"\u001b[39m\u001b[33mIntermediate Answer\u001b[39m\u001b[33m\"\u001b[39m,\n\u001b[32m   (...)\u001b[39m\u001b[32m     12\u001b[39m     )\n\u001b[32m     13\u001b[39m ]\n\u001b[32m     15\u001b[39m \u001b[38;5;66;03m#Создаем тул  с поисковиком - обязательно называем Intermediate Answer\u001b[39;00m\n",
      "\u001b[36mFile \u001b[39m\u001b[32md:\\Khabarov\\Репозиторий\\llm_practice_course\\.venv\\Lib\\site-packages\\pydantic\\main.py:253\u001b[39m, in \u001b[36mBaseModel.__init__\u001b[39m\u001b[34m(self, **data)\u001b[39m\n\u001b[32m    251\u001b[39m \u001b[38;5;66;03m# `__tracebackhide__` tells pytest and some other tools to omit this function from tracebacks\u001b[39;00m\n\u001b[32m    252\u001b[39m __tracebackhide__ = \u001b[38;5;28;01mTrue\u001b[39;00m\n\u001b[32m--> \u001b[39m\u001b[32m253\u001b[39m validated_self = \u001b[38;5;28;43mself\u001b[39;49m\u001b[43m.\u001b[49m\u001b[43m__pydantic_validator__\u001b[49m\u001b[43m.\u001b[49m\u001b[43mvalidate_python\u001b[49m\u001b[43m(\u001b[49m\u001b[43mdata\u001b[49m\u001b[43m,\u001b[49m\u001b[43m \u001b[49m\u001b[43mself_instance\u001b[49m\u001b[43m=\u001b[49m\u001b[38;5;28;43mself\u001b[39;49m\u001b[43m)\u001b[49m\n\u001b[32m    254\u001b[39m \u001b[38;5;28;01mif\u001b[39;00m \u001b[38;5;28mself\u001b[39m \u001b[38;5;129;01mis\u001b[39;00m \u001b[38;5;129;01mnot\u001b[39;00m validated_self:\n\u001b[32m    255\u001b[39m     warnings.warn(\n\u001b[32m    256\u001b[39m         \u001b[33m'\u001b[39m\u001b[33mA custom validator is returning a value other than `self`.\u001b[39m\u001b[38;5;130;01m\\n\u001b[39;00m\u001b[33m'\u001b[39m\n\u001b[32m    257\u001b[39m         \u001b[33m\"\u001b[39m\u001b[33mReturning anything other than `self` from a top level model validator isn\u001b[39m\u001b[33m'\u001b[39m\u001b[33mt supported when validating via `__init__`.\u001b[39m\u001b[38;5;130;01m\\n\u001b[39;00m\u001b[33m\"\u001b[39m\n\u001b[32m    258\u001b[39m         \u001b[33m'\u001b[39m\u001b[33mSee the `model_validator` docs (https://docs.pydantic.dev/latest/concepts/validators/#model-validators) for more details.\u001b[39m\u001b[33m'\u001b[39m,\n\u001b[32m    259\u001b[39m         stacklevel=\u001b[32m2\u001b[39m,\n\u001b[32m    260\u001b[39m     )\n",
      "\u001b[31mValidationError\u001b[39m: 1 validation error for SerpAPIWrapper\n  Value error, Did not find serpapi_api_key, please add an environment variable `SERPAPI_API_KEY` which contains it, or pass `serpapi_api_key` as a named parameter. [type=value_error, input_value={}, input_type=dict]\n    For further information visit https://errors.pydantic.dev/2.11/v/value_error"
     ]
    }
   ],
   "source": [
    "from langchain.agents import create_self_ask_with_search_agent, Tool\n",
    "from langchain_community.utilities import SerpAPIWrapper\n",
    "\n",
    "prompt = hub.pull(\"hwchase17/self-ask-with-search\") #Тянем запрос\n",
    "\n",
    "search = SerpAPIWrapper()\n",
    "tools = [\n",
    "    Tool(\n",
    "        name=\"Intermediate Answer\",\n",
    "        func=search.run,\n",
    "        description='useful for when you need to answer questions'\n",
    "    )\n",
    "]\n",
    "\n",
    "#Создаем тул  с поисковиком - обязательно называем Intermediate Answer\n",
    "\n",
    "agent = create_self_ask_with_search_agent(llm, tools, prompt)\n",
    "\n",
    "agent_executor = AgentExecutor(agent=agent, tools=tools, verbose=True, handle_parsing_errors=True)\n",
    "\n",
    "agent_executor.invoke({\"input\": \"Какая самая большая река протекает в городе, в котором родился автор романа Капитанская дочка?\"})"
   ]
  },
  {
   "cell_type": "markdown",
   "id": "e69e8553",
   "metadata": {},
   "source": [
    "### Agent - RAG\n",
    "\n",
    "Схема такая:\n",
    "- создаем агента и в качестве инструмента даем ему ретривер\n",
    "- ретривер достает релевантную инфу из бд\n",
    "- бд создадим распарсив страницу пиццерии\n",
    "- тем самым научим отвечать на вопросы по сайту\n",
    "\n"
   ]
  },
  {
   "cell_type": "code",
   "execution_count": 23,
   "id": "0c2360a3",
   "metadata": {},
   "outputs": [],
   "source": [
    "from langchain_community.document_loaders import WebBaseLoader\n",
    "\n",
    "loader = WebBaseLoader(\"https://allopizza.su/spb/kupchino/about\")\n",
    "data = loader.load()\n",
    "\n",
    "#Грузим данные"
   ]
  },
  {
   "cell_type": "code",
   "execution_count": 24,
   "id": "8dce1b78",
   "metadata": {},
   "outputs": [
    {
     "name": "stderr",
     "output_type": "stream",
     "text": [
      "D:\\Temp\\TEMP\\ipykernel_10976\\550220920.py:10: LangChainDeprecationWarning: The class `HuggingFaceBgeEmbeddings` was deprecated in LangChain 0.2.2 and will be removed in 1.0. An updated version of the class exists in the :class:`~langchain-huggingface package and should be used instead. To use it run `pip install -U :class:`~langchain-huggingface` and import as `from :class:`~langchain_huggingface import HuggingFaceEmbeddings``.\n",
      "  embeddings = HuggingFaceBgeEmbeddings(model_name=\"cointegrated/LaBSE-en-ru\"\n"
     ]
    },
    {
     "data": {
      "application/vnd.jupyter.widget-view+json": {
       "model_id": "c5664f7105744a8e9106dd9d2a2ae307",
       "version_major": 2,
       "version_minor": 0
      },
      "text/plain": [
       "modules.json:   0%|          | 0.00/461 [00:00<?, ?B/s]"
      ]
     },
     "metadata": {},
     "output_type": "display_data"
    },
    {
     "name": "stderr",
     "output_type": "stream",
     "text": [
      "d:\\Khabarov\\Репозиторий\\llm_practice_course\\.venv\\Lib\\site-packages\\huggingface_hub\\file_download.py:143: UserWarning: `huggingface_hub` cache-system uses symlinks by default to efficiently store duplicated files but your machine does not support them in C:\\Users\\n.khabarov\\.cache\\huggingface\\hub\\models--cointegrated--LaBSE-en-ru. Caching files will still work but in a degraded version that might require more space on your disk. This warning can be disabled by setting the `HF_HUB_DISABLE_SYMLINKS_WARNING` environment variable. For more details, see https://huggingface.co/docs/huggingface_hub/how-to-cache#limitations.\n",
      "To support symlinks on Windows, you either need to activate Developer Mode or to run Python as an administrator. In order to activate developer mode, see this article: https://docs.microsoft.com/en-us/windows/apps/get-started/enable-your-device-for-development\n",
      "  warnings.warn(message)\n"
     ]
    },
    {
     "data": {
      "application/vnd.jupyter.widget-view+json": {
       "model_id": "f4047edf235f415d95590bf408d7c5bc",
       "version_major": 2,
       "version_minor": 0
      },
      "text/plain": [
       "README.md: 0.00B [00:00, ?B/s]"
      ]
     },
     "metadata": {},
     "output_type": "display_data"
    },
    {
     "data": {
      "application/vnd.jupyter.widget-view+json": {
       "model_id": "7fff679b6c64487086add09293601deb",
       "version_major": 2,
       "version_minor": 0
      },
      "text/plain": [
       "sentence_bert_config.json:   0%|          | 0.00/53.0 [00:00<?, ?B/s]"
      ]
     },
     "metadata": {},
     "output_type": "display_data"
    },
    {
     "data": {
      "application/vnd.jupyter.widget-view+json": {
       "model_id": "731be82b6f7149ab949d83d889ba5a7d",
       "version_major": 2,
       "version_minor": 0
      },
      "text/plain": [
       "config.json:   0%|          | 0.00/806 [00:00<?, ?B/s]"
      ]
     },
     "metadata": {},
     "output_type": "display_data"
    },
    {
     "data": {
      "application/vnd.jupyter.widget-view+json": {
       "model_id": "22e514c307504ec2ae0bd4a48f301277",
       "version_major": 2,
       "version_minor": 0
      },
      "text/plain": [
       "model.safetensors:   0%|          | 0.00/516M [00:00<?, ?B/s]"
      ]
     },
     "metadata": {},
     "output_type": "display_data"
    },
    {
     "data": {
      "application/vnd.jupyter.widget-view+json": {
       "model_id": "75df5feca1924f7fabd9d364512f863c",
       "version_major": 2,
       "version_minor": 0
      },
      "text/plain": [
       "tokenizer_config.json:   0%|          | 0.00/49.0 [00:00<?, ?B/s]"
      ]
     },
     "metadata": {},
     "output_type": "display_data"
    },
    {
     "data": {
      "application/vnd.jupyter.widget-view+json": {
       "model_id": "b6a09c61979448f69460693244c1c644",
       "version_major": 2,
       "version_minor": 0
      },
      "text/plain": [
       "vocab.txt: 0.00B [00:00, ?B/s]"
      ]
     },
     "metadata": {},
     "output_type": "display_data"
    },
    {
     "data": {
      "application/vnd.jupyter.widget-view+json": {
       "model_id": "71cda68b8d104fab94a8893f862013ca",
       "version_major": 2,
       "version_minor": 0
      },
      "text/plain": [
       "special_tokens_map.json:   0%|          | 0.00/112 [00:00<?, ?B/s]"
      ]
     },
     "metadata": {},
     "output_type": "display_data"
    },
    {
     "data": {
      "application/vnd.jupyter.widget-view+json": {
       "model_id": "3ad1734d673148deb67724fe62aef2dd",
       "version_major": 2,
       "version_minor": 0
      },
      "text/plain": [
       "config.json:   0%|          | 0.00/190 [00:00<?, ?B/s]"
      ]
     },
     "metadata": {},
     "output_type": "display_data"
    },
    {
     "data": {
      "application/vnd.jupyter.widget-view+json": {
       "model_id": "2ed91921a3de41139af9006cc105423d",
       "version_major": 2,
       "version_minor": 0
      },
      "text/plain": [
       "config.json:   0%|          | 0.00/114 [00:00<?, ?B/s]"
      ]
     },
     "metadata": {},
     "output_type": "display_data"
    },
    {
     "data": {
      "application/vnd.jupyter.widget-view+json": {
       "model_id": "e963116eb9ef41e4a95383ee0da6f039",
       "version_major": 2,
       "version_minor": 0
      },
      "text/plain": [
       "pytorch_model.bin:   0%|          | 0.00/2.36M [00:00<?, ?B/s]"
      ]
     },
     "metadata": {},
     "output_type": "display_data"
    }
   ],
   "source": [
    "from langchain_community.vectorstores import FAISS\n",
    "from langchain_text_splitters import CharacterTextSplitter\n",
    "from langchain_openai import OpenAIEmbeddings\n",
    "from langchain.embeddings import HuggingFaceBgeEmbeddings\n",
    "\n",
    "text_splitter = CharacterTextSplitter(chunk_size=1000, chunk_overlap=0)\n",
    "texts = text_splitter.split_documents(data) #Сплитуем доки\n",
    "\n",
    "#Создаем эмбеддинги\n",
    "embeddings = HuggingFaceBgeEmbeddings(model_name=\"cointegrated/LaBSE-en-ru\"\n",
    "                                               ,model_kwargs={\"device\": \"cpu\"}\n",
    "                                            #    ,model_kwargs={\"device\": \"cuda\"}\n",
    "                                               )\n",
    "\n",
    "#Создаем векторную бд\n",
    "db_embed = FAISS.from_documents(texts, embeddings)\n",
    "\n",
    "#Создаем ретривера\n",
    "retriever = db_embed.as_retriever()"
   ]
  },
  {
   "cell_type": "code",
   "execution_count": 25,
   "id": "36395df6",
   "metadata": {},
   "outputs": [],
   "source": [
    "from langchain.tools.retriever import create_retriever_tool\n",
    "\n",
    "tool = create_retriever_tool(retriever\n",
    "                             ,\"search_web\" #Название тула\n",
    "                             ,\"Searches and returns data from page\" #Описание инструмента\n",
    "                             )\n",
    "tools = [tool]"
   ]
  },
  {
   "cell_type": "code",
   "execution_count": 27,
   "id": "8d18dedf",
   "metadata": {},
   "outputs": [
    {
     "name": "stderr",
     "output_type": "stream",
     "text": [
      "d:\\Khabarov\\Репозиторий\\llm_practice_course\\.venv\\Lib\\site-packages\\langsmith\\client.py:272: LangSmithMissingAPIKeyWarning: API key must be provided when using hosted LangSmith API\n",
      "  warnings.warn(\n"
     ]
    }
   ],
   "source": [
    "prompt = hub.pull(\"hwchase17/react\") #Качаем шаблон промпта\n",
    "\n",
    "from langchain.agents import create_react_agent\n",
    "\n",
    "agent = create_react_agent(llm, tools, prompt)\n",
    "agent_executor = AgentExecutor(agent=agent, tools=tools)"
   ]
  },
  {
   "cell_type": "code",
   "execution_count": null,
   "id": "5b7dc238",
   "metadata": {},
   "outputs": [
    {
     "data": {
      "text/plain": [
       "'Автопарк компании \"Алло! Пицца\" состоит из более чем 200 автомобилей.'"
      ]
     },
     "execution_count": 28,
     "metadata": {},
     "output_type": "execute_result"
    }
   ],
   "source": [
    "result = agent_executor.invoke({\"input\": \"Из скольки авто состоит автопарк компании?\"})\n",
    "result[\"output\"]\n",
    "\n",
    "#Агент умеет отвечать на вопросы по нашему сайту"
   ]
  },
  {
   "cell_type": "markdown",
   "id": "52417c24",
   "metadata": {},
   "source": [
    "### SQL и агенты\n",
    "Langchain имеет инструменты, которые позволяют взаимодействовать с БД без использования SQL запросов пользователем\n",
    "\n",
    "SQLDatabaseChain - цепочка, выполняющая запросы к базе\n",
    "SQLDatabaseToolKit - ящик инструментов, который подается в агента, а именно:\n",
    "    - QuerySQLDataBaseTool - инструмент создания и выполнения запросов\n",
    "    - InfoSQLDatabaseTool - инструмент для получения инфо о таблицах\n",
    "    - ListSQLDatabaseTool - названия таблиц\n",
    "    - QueryChekerTool - инструмент проверяющий запросы на синтаксис\n",
    "  "
   ]
  },
  {
   "cell_type": "code",
   "execution_count": 5,
   "id": "5d53c49f",
   "metadata": {},
   "outputs": [
    {
     "name": "stdout",
     "output_type": "stream",
     "text": [
      "sqlite\n"
     ]
    }
   ],
   "source": [
    "from langchain_community.utilities import SQLDatabase\n",
    "\n",
    "# подключимся к базе\n",
    "db = SQLDatabase.from_uri(\"sqlite:///pizzeria.db\")\n",
    "print(db.dialect) #Какой SQL юзаем"
   ]
  },
  {
   "cell_type": "code",
   "execution_count": 7,
   "id": "23c68066",
   "metadata": {},
   "outputs": [
    {
     "name": "stdout",
     "output_type": "stream",
     "text": [
      "['clients', 'orders', 'pizza_orders', 'pizzas']\n"
     ]
    }
   ],
   "source": [
    "# получим названия всех таблиц в базе\n",
    "print(db.get_usable_table_names())\n",
    "\n",
    "#Получение всех таблиц"
   ]
  },
  {
   "cell_type": "code",
   "execution_count": 6,
   "id": "dc3928ce",
   "metadata": {},
   "outputs": [],
   "source": [
    "from langchain_community.agent_toolkits import create_sql_agent\n",
    "from langchain.agents.agent_toolkits import SQLDatabaseToolkit\n",
    "\n",
    "toolkit = SQLDatabaseToolkit(db=db, llm=llm) #Создаем тулкит\n",
    "\n",
    "agent_executor = create_sql_agent(llm\n",
    "                                  ,toolkit=toolkit\n",
    "                                  ,verbose=True) #Создаем агента"
   ]
  },
  {
   "cell_type": "code",
   "execution_count": null,
   "id": "aa338704",
   "metadata": {},
   "outputs": [
    {
     "name": "stdout",
     "output_type": "stream",
     "text": [
      "\n",
      "\n",
      "\u001b[1m> Entering new SQL Agent Executor chain...\u001b[0m\n",
      "\u001b[32;1m\u001b[1;3mAction: sql_db_list_tables  \n",
      "Action Input: ''  \u001b[0m\u001b[38;5;200m\u001b[1;3mclients, orders, pizza_orders, pizzas\u001b[0m\u001b[32;1m\u001b[1;3mThe most relevant table to look into for the question about the month with the most orders in 2023 is the \"orders\" table. I'll now check the schema of the \"orders\" table to see the relevant columns, particularly ones related to dates or order counts.\n",
      "\n",
      "Action: sql_db_schema  \n",
      "Action Input: orders  \u001b[0m\u001b[33;1m\u001b[1;3m\n",
      "CREATE TABLE orders (\n",
      "\tid INTEGER NOT NULL, \n",
      "\torder_date DATE, \n",
      "\tclient_id INTEGER, \n",
      "\tquantity INTEGER, \n",
      "\tprice NUMERIC(10, 2), \n",
      "\tPRIMARY KEY (id), \n",
      "\tFOREIGN KEY(client_id) REFERENCES clients (id)\n",
      ")\n",
      "\n",
      "/*\n",
      "3 rows from orders table:\n",
      "id\torder_date\tclient_id\tquantity\tprice\n",
      "1\t2023-05-01\t1\t1\t750.00\n",
      "2\t2023-05-01\t2\t4\t12000.00\n",
      "3\t2023-05-01\t1\t2\t2750.00\n",
      "*/\u001b[0m\u001b[32;1m\u001b[1;3mTo determine the month in 2023 with the highest number of orders, I will need to count the orders grouped by month from the \"order_date\" field, and filter for the year 2023. Then, I can order the results by the count of orders in descending order to find the month with the most orders.\n",
      "\n",
      "Action: sql_db_query_checker  \n",
      "Action Input: \n",
      "```sql\n",
      "SELECT strftime('%Y-%m', order_date) AS month, COUNT(*) AS order_count\n",
      "FROM orders\n",
      "WHERE order_date >= '2023-01-01' AND order_date < '2024-01-01'\n",
      "GROUP BY month\n",
      "ORDER BY order_count DESC\n",
      "LIMIT 10;\n",
      "```  \u001b[0m\u001b[36;1m\u001b[1;3m```sql\n",
      "SELECT strftime('%Y-%m', order_date) AS month, COUNT(*) AS order_count\n",
      "FROM orders\n",
      "WHERE order_date >= '2023-01-01' AND order_date < '2024-01-01'\n",
      "GROUP BY month\n",
      "ORDER BY order_count DESC\n",
      "LIMIT 10;\n",
      "```\u001b[0m\u001b[32;1m\u001b[1;3mThe query is syntactically correct, so I will execute it to find out which month in 2023 had the most orders.\n",
      "\n",
      "Action: sql_db_query  \n",
      "Action Input: \n",
      "```sql\n",
      "SELECT strftime('%Y-%m', order_date) AS month, COUNT(*) AS order_count\n",
      "FROM orders\n",
      "WHERE order_date >= '2023-01-01' AND order_date < '2024-01-01'\n",
      "GROUP BY month\n",
      "ORDER BY order_count DESC\n",
      "LIMIT 10;\n",
      "```  \u001b[0m\u001b[36;1m\u001b[1;3mError: (sqlite3.OperationalError) near \"```sql\n",
      "SELECT strftime('%Y-%m', order_date) AS month, COUNT(*) AS order_count\n",
      "FROM orders\n",
      "WHERE order_date >= '2023-01-01' AND order_date < '2024-01-01'\n",
      "GROUP BY month\n",
      "ORDER BY order_count DESC\n",
      "LIMIT 10;\n",
      "```\": syntax error\n",
      "[SQL: ```sql\n",
      "SELECT strftime('%Y-%m', order_date) AS month, COUNT(*) AS order_count\n",
      "FROM orders\n",
      "WHERE order_date >= '2023-01-01' AND order_date < '2024-01-01'\n",
      "GROUP BY month\n",
      "ORDER BY order_count DESC\n",
      "LIMIT 10;\n",
      "```]\n",
      "(Background on this error at: https://sqlalche.me/e/20/e3q8)\u001b[0m\u001b[32;1m\u001b[1;3mI need to remove the formatting from my SQL query before executing it. I will construct a new query without the code block notation.\n",
      "\n",
      "Action: sql_db_query_checker  \n",
      "Action Input: \n",
      "```sql\n",
      "SELECT strftime('%Y-%m', order_date) AS month, COUNT(*) AS order_count\n",
      "FROM orders\n",
      "WHERE order_date >= '2023-01-01' AND order_date < '2024-01-01'\n",
      "GROUP BY month\n",
      "ORDER BY order_count DESC\n",
      "LIMIT 10;\n",
      "```  \u001b[0m\u001b[36;1m\u001b[1;3m```sql\n",
      "SELECT strftime('%Y-%m', order_date) AS month, COUNT(*) AS order_count\n",
      "FROM orders\n",
      "WHERE order_date >= '2023-01-01' AND order_date < '2024-01-01'\n",
      "GROUP BY month\n",
      "ORDER BY order_count DESC\n",
      "LIMIT 10;\n",
      "```\u001b[0m\u001b[32;1m\u001b[1;3mThe query is still syntactically correct, so I will execute it to find out which month in 2023 had the most orders.\n",
      "\n",
      "Action: sql_db_query  \n",
      "Action Input: \n",
      "SELECT strftime('%Y-%m', order_date) AS month, COUNT(*) AS order_count\n",
      "FROM orders\n",
      "WHERE order_date >= '2023-01-01' AND order_date < '2024-01-01'\n",
      "GROUP BY month\n",
      "ORDER BY order_count DESC\n",
      "LIMIT 10;  \u001b[0m\u001b[36;1m\u001b[1;3m[('2023-06', 114), ('2023-05', 105)]\u001b[0m\u001b[32;1m\u001b[1;3mI have obtained the results which show that June 2023 had the highest number of orders, with a total of 114 orders, followed by May 2023 with 105 orders. \n",
      "\n",
      "Final Answer: В июне 2023 года было больше всего заказов (114 заказов).\u001b[0m\n",
      "\n",
      "\u001b[1m> Finished chain.\u001b[0m\n"
     ]
    }
   ],
   "source": [
    "question = \"В каком месяце 2023 года было больше всего заказов?\"\n",
    "\n",
    "resp = agent_executor.invoke({\"input\": {question}})\n",
    "\n",
    "#Агент ответил на естественном языке - Final Answer: В июне 2023 года было больше всего заказов (114 заказов)."
   ]
  },
  {
   "cell_type": "code",
   "execution_count": null,
   "id": "1e3f6cf8",
   "metadata": {},
   "outputs": [
    {
     "data": {
      "text/plain": [
       "\"[('06', 114)]\""
      ]
     },
     "execution_count": 10,
     "metadata": {},
     "output_type": "execute_result"
    }
   ],
   "source": [
    "db.run('''\n",
    "SELECT strftime('%m', order_date) AS month, COUNT(*) AS total_orders \n",
    "FROM orders \n",
    "WHERE strftime('%Y', order_date) = '2023' \n",
    "GROUP BY month \n",
    "ORDER BY total_orders DESC\n",
    "LIMIT 1\n",
    "''')\n",
    "\n",
    "#Проверка - всё верно"
   ]
  },
  {
   "cell_type": "code",
   "execution_count": 15,
   "id": "05afbb91",
   "metadata": {},
   "outputs": [
    {
     "name": "stdout",
     "output_type": "stream",
     "text": [
      "\n",
      "\n",
      "\u001b[1m> Entering new SQL Agent Executor chain...\u001b[0m\n",
      "\u001b[32;1m\u001b[1;3mAction: sql_db_list_tables  \n",
      "Action Input: ''  \u001b[0m\u001b[38;5;200m\u001b[1;3mclients, orders, pizza_orders, pizzas\u001b[0m\u001b[32;1m\u001b[1;3mThe \"clients\" table exists in the database. I will now query its schema to describe its structure. \n",
      "\n",
      "Action: sql_db_schema  \n",
      "Action Input: clients  \u001b[0m\u001b[33;1m\u001b[1;3m\n",
      "CREATE TABLE clients (\n",
      "\tid INTEGER NOT NULL, \n",
      "\tname VARCHAR, \n",
      "\tage INTEGER, \n",
      "\taddress VARCHAR, \n",
      "\tphone VARCHAR, \n",
      "\tPRIMARY KEY (id)\n",
      ")\n",
      "\n",
      "/*\n",
      "3 rows from clients table:\n",
      "id\tname\tage\taddress\tphone\n",
      "1\tВиссарион Огарев\t26\tул. Ордынка М. 1108\t+7-943-980-0050\n",
      "2\tГордей Брагин\t38\tул. Коммунистическая 847\t+7-928-427-6017\n",
      "3\tЛукьян Артёмов\t26\tул. Лапина 1121\t+7-956-078-2824\n",
      "*/\u001b[0m\u001b[32;1m\u001b[1;3mI now know the final answer. \n",
      "Final Answer: The \"clients\" table has the following structure:\n",
      "- id (INTEGER, PRIMARY KEY)\n",
      "- name (VARCHAR)\n",
      "- age (INTEGER)\n",
      "- address (VARCHAR)\n",
      "- phone (VARCHAR)\n",
      "\n",
      "Sample data from the \"clients\" table includes:\n",
      "1. Виссарион Огарев, 26, ул. Ордынка М. 1108, +7-943-980-0050\n",
      "2. Гордей Брагин, 38, ул. Коммунистическая 847, +7-928-427-6017\n",
      "3. Лукьян Артёмов, 26, ул. Лапина 1121, +7-956-078-2824\u001b[0m\n",
      "\n",
      "\u001b[1m> Finished chain.\u001b[0m\n"
     ]
    }
   ],
   "source": [
    "question = \"Опиши таблицу clients\"\n",
    "\n",
    "resp = agent_executor.invoke({\"input\": {question}})"
   ]
  },
  {
   "cell_type": "code",
   "execution_count": null,
   "id": "4400a4b1",
   "metadata": {},
   "outputs": [
    {
     "name": "stdout",
     "output_type": "stream",
     "text": [
      "\n",
      "\n",
      "\u001b[1m> Entering new SQL Agent Executor chain...\u001b[0m\n",
      "\u001b[32;1m\u001b[1;3mAction: sql_db_list_tables  \n",
      "Action Input: \"\"  \u001b[0m\u001b[38;5;200m\u001b[1;3mclients, orders, pizza_orders, pizzas\u001b[0m\u001b[32;1m\u001b[1;3mI need to check the schema of the relevant tables that may contain information about pizza sizes, their sales, and the days of the week on which they are sold. The likely relevant tables are `orders`, `pizza_orders`, and `pizzas`. I'll start by getting the schema for these tables. \n",
      "\n",
      "Action: sql_db_schema  \n",
      "Action Input: \"orders, pizza_orders, pizzas\"  \u001b[0m\u001b[33;1m\u001b[1;3m\n",
      "CREATE TABLE orders (\n",
      "\tid INTEGER NOT NULL, \n",
      "\torder_date DATE, \n",
      "\tclient_id INTEGER, \n",
      "\tquantity INTEGER, \n",
      "\tprice NUMERIC(10, 2), \n",
      "\tPRIMARY KEY (id), \n",
      "\tFOREIGN KEY(client_id) REFERENCES clients (id)\n",
      ")\n",
      "\n",
      "/*\n",
      "3 rows from orders table:\n",
      "id\torder_date\tclient_id\tquantity\tprice\n",
      "1\t2023-05-01\t1\t1\t750.00\n",
      "2\t2023-05-01\t2\t4\t12000.00\n",
      "3\t2023-05-01\t1\t2\t2750.00\n",
      "*/\n",
      "\n",
      "\n",
      "CREATE TABLE pizza_orders (\n",
      "\torder_id INTEGER NOT NULL, \n",
      "\tpizza_id INTEGER NOT NULL, \n",
      "\tPRIMARY KEY (order_id, pizza_id), \n",
      "\tFOREIGN KEY(order_id) REFERENCES orders (id), \n",
      "\tFOREIGN KEY(pizza_id) REFERENCES pizzas (id)\n",
      ")\n",
      "\n",
      "/*\n",
      "3 rows from pizza_orders table:\n",
      "order_id\tpizza_id\n",
      "1\t15\n",
      "2\t56\n",
      "2\t22\n",
      "*/\n",
      "\n",
      "\n",
      "CREATE TABLE pizzas (\n",
      "\tid INTEGER NOT NULL, \n",
      "\ttype VARCHAR, \n",
      "\tname VARCHAR, \n",
      "\tsize VARCHAR, \n",
      "\tprice NUMERIC(10, 2), \n",
      "\tPRIMARY KEY (id)\n",
      ")\n",
      "\n",
      "/*\n",
      "3 rows from pizzas table:\n",
      "id\ttype\tname\tsize\tprice\n",
      "1\tВеган\tФермерская\tS\t500.00\n",
      "2\tПтица\tМаргарита\tL\t750.00\n",
      "3\tМорепродукты\tФермерская\tS\t600.00\n",
      "*/\u001b[0m\u001b[32;1m\u001b[1;3mTo answer the question about which day of the week pizzas of the smallest size yield the highest revenue, I need to identify the smallest size available in the `pizzas` table, then join this with the `pizza_orders` and `orders` tables to aggregate revenue per day of the week for those pizzas. \n",
      "\n",
      "I'll proceed by writing a query to:\n",
      "1. Identify the smallest size from the `pizzas` table.\n",
      "2. Join the necessary tables to calculate the total revenue for that size on each day of the week.\n",
      "3. Order the results by revenue to find the day with the highest revenue.\n",
      "\n",
      "Let's first determine the smallest size of pizzas. \n",
      "\n",
      "Action: sql_db_query  \n",
      "Action Input: \"SELECT DISTINCT size FROM pizzas ORDER BY size ASC LIMIT 1\"  \u001b[0m\u001b[36;1m\u001b[1;3m[('L',)]\u001b[0m\u001b[32;1m\u001b[1;3mI see that the smallest size available in the `pizzas` table is 'L'. Now, I will query to calculate the total revenue for pizzas of size 'L' grouped by day of the week.\n",
      "\n",
      "Action: sql_db_query  \n",
      "Action Input: \"\"\"\n",
      "SELECT strftime('%w', o.order_date) AS day_of_week, SUM(o.price) AS total_revenue\n",
      "FROM orders o\n",
      "JOIN pizza_orders po ON o.id = po.order_id\n",
      "JOIN pizzas p ON po.pizza_id = p.id\n",
      "WHERE p.size = 'L'\n",
      "GROUP BY day_of_week\n",
      "ORDER BY total_revenue DESC\n",
      "LIMIT 10\n",
      "\"\"\"  \u001b[0m\u001b[36;1m\u001b[1;3m[('1', 2244000), ('0', 1722725), ('2', 567325), ('6', 111250), ('3', 10900), ('5', 750)]\u001b[0m\u001b[32;1m\u001b[1;3mI need to convert the numerical representation of the day of the week to a more understandable format. In SQLite, the days of the week are represented as follows: 0 = Sunday, 1 = Monday, 2 = Tuesday, 3 = Wednesday, 4 = Thursday, 5 = Friday, 6 = Saturday. \n",
      "\n",
      "The day with the highest revenue ('1') corresponds to Monday. \n",
      "\n",
      "Final Answer: Понедельник (Monday) имеет наибольшую выручку от пицц наименьшего размера.\u001b[0m\n",
      "\n",
      "\u001b[1m> Finished chain.\u001b[0m\n"
     ]
    }
   ],
   "source": [
    "question = \"В какой день недели пиццы наименьшего размера приносят наибольшую выручку?\"\n",
    "\n",
    "resp = agent_executor.invoke({\"input\": {question}})\n",
    "\n",
    "#Final Answer: Понедельник (Monday) имеет наибольшую выручку от пицц наименьшего размера."
   ]
  },
  {
   "cell_type": "code",
   "execution_count": 7,
   "id": "006784d3",
   "metadata": {},
   "outputs": [],
   "source": [
    "from langchain_experimental.agents.agent_toolkits.python.base import create_python_agent\n",
    "from langchain_experimental.tools.python.tool import PythonREPLTool\n",
    "\n",
    "# создаем пайтон агента\n",
    "agent_model = create_python_agent(\n",
    "    llm=llm,\n",
    "    tool=PythonREPLTool(),\n",
    "    verbose=True\n",
    ")\n",
    "\n",
    "# создаем sql агента\n",
    "agent_executor_sql = create_sql_agent(llm, db=db, verbose=True)"
   ]
  },
  {
   "cell_type": "code",
   "execution_count": 8,
   "id": "0c3751c1",
   "metadata": {},
   "outputs": [],
   "source": [
    "from langchain.agents import Tool\n",
    "# оба агента станут инструментами для верхнеуровнего агента\n",
    "tools_mix=[\n",
    "        Tool(\n",
    "            name=\"PythonAgent\",\n",
    "            func=agent_model.run,\n",
    "            description=\"\"\"Useful to run python commands\"\"\",\n",
    "        ),\n",
    "        Tool(\n",
    "            name=\"SQLAgent\",\n",
    "            func=agent_executor_sql.run,\n",
    "            description=\"\"\"Useful to query sql tables\"\"\",\n",
    "        ),\n",
    "    ]"
   ]
  },
  {
   "cell_type": "code",
   "execution_count": 13,
   "id": "2ca40778",
   "metadata": {},
   "outputs": [
    {
     "name": "stderr",
     "output_type": "stream",
     "text": [
      "d:\\Khabarov\\Репозиторий\\llm_practice_course\\.venv\\Lib\\site-packages\\langsmith\\client.py:272: LangSmithMissingAPIKeyWarning: API key must be provided when using hosted LangSmith API\n",
      "  warnings.warn(\n"
     ]
    }
   ],
   "source": [
    "from langchain import hub\n",
    "from langchain.agents import create_react_agent, AgentExecutor\n",
    "\n",
    "# верхнеуровневый агент с промптом ReAct\n",
    "prompt = hub.pull(\"hwchase17/react\")\n",
    "agent_mix = create_react_agent(\n",
    "    tools=tools_mix,\n",
    "    llm=llm,\n",
    "    prompt=prompt,\n",
    ") "
   ]
  },
  {
   "cell_type": "code",
   "execution_count": 14,
   "id": "4b0d320c",
   "metadata": {},
   "outputs": [],
   "source": [
    "agent_executor = AgentExecutor(agent=agent_mix, tools=tools_mix, verbose=True,\n",
    "                              handle_parsing_errors=True)\n",
    "\n",
    "#Создаем непосредственно финального агента"
   ]
  },
  {
   "cell_type": "code",
   "execution_count": null,
   "id": "62a9c4fd",
   "metadata": {},
   "outputs": [
    {
     "name": "stdout",
     "output_type": "stream",
     "text": [
      "\n",
      "\n",
      "\u001b[1m> Entering new AgentExecutor chain...\u001b[0m\n",
      "\u001b[32;1m\u001b[1;3mЧтобы ответить на вопрос, сначала необходимо получить данные о количестве заказов в день из таблицы `orders`. После получения данных нужно будет отобразить их в виде графика для первых 10 дней.\n",
      "\n",
      "Action: SQLAgent  \n",
      "Action Input: \"SELECT order_date, COUNT(*) as order_count FROM orders GROUP BY order_date ORDER BY order_date LIMIT 10;\"  \n",
      "\u001b[0m\n",
      "\n",
      "\u001b[1m> Entering new SQL Agent Executor chain...\u001b[0m\n",
      "\u001b[32;1m\u001b[1;3mAction: sql_db_list_tables  \n",
      "Action Input: \"\"  \u001b[0m\u001b[38;5;200m\u001b[1;3mclients, orders, pizza_orders, pizzas\u001b[0m\u001b[32;1m\u001b[1;3mThe relevant table for the query is \"orders.\" I will check the schema of the \"orders\" table to confirm the columns available for querying. \n",
      "\n",
      "Action: sql_db_schema  \n",
      "Action Input: \"orders\"  \u001b[0m\u001b[33;1m\u001b[1;3m\n",
      "CREATE TABLE orders (\n",
      "\tid INTEGER NOT NULL, \n",
      "\torder_date DATE, \n",
      "\tclient_id INTEGER, \n",
      "\tquantity INTEGER, \n",
      "\tprice NUMERIC(10, 2), \n",
      "\tPRIMARY KEY (id), \n",
      "\tFOREIGN KEY(client_id) REFERENCES clients (id)\n",
      ")\n",
      "\n",
      "/*\n",
      "3 rows from orders table:\n",
      "id\torder_date\tclient_id\tquantity\tprice\n",
      "1\t2023-05-01\t1\t1\t750.00\n",
      "2\t2023-05-01\t2\t4\t12000.00\n",
      "3\t2023-05-01\t1\t2\t2750.00\n",
      "*/\u001b[0m\u001b[32;1m\u001b[1;3mThe \"orders\" table contains the columns \"order_date,\" \"client_id,\" \"quantity,\" and \"price.\" The query I want to execute is attempting to count the number of orders for each date. The original query appears correct as it uses the available \"order_date\" and counts the entries. I will double-check the query to ensure its correctness before executing it.\n",
      "\n",
      "Action: sql_db_query_checker  \n",
      "Action Input: \"SELECT order_date, COUNT(*) as order_count FROM orders GROUP BY order_date ORDER BY order_date LIMIT 10;\"  \u001b[0m\u001b[36;1m\u001b[1;3m```sql\n",
      "SELECT order_date, COUNT(*) as order_count FROM orders GROUP BY order_date ORDER BY order_date LIMIT 10;\n",
      "```\u001b[0m\u001b[32;1m\u001b[1;3mThe query appears to be correct as per the syntax. I will now execute the query to get the results.\n",
      "\n",
      "Action: sql_db_query  \n",
      "Action Input: \"SELECT order_date, COUNT(*) as order_count FROM orders GROUP BY order_date ORDER BY order_date LIMIT 10;\"  \u001b[0m\u001b[36;1m\u001b[1;3m[('2023-05-01', 6), ('2023-05-02', 4), ('2023-05-03', 1), ('2023-05-06', 3), ('2023-05-07', 6), ('2023-05-08', 6), ('2023-05-09', 5), ('2023-05-10', 2), ('2023-05-13', 3), ('2023-05-14', 6)]\u001b[0m\u001b[32;1m\u001b[1;3mI now have the results of the query, which include the order counts for various dates. Here are the counts for each order date:\n",
      "\n",
      "- 2023-05-01: 6 orders\n",
      "- 2023-05-02: 4 orders\n",
      "- 2023-05-03: 1 order\n",
      "- 2023-05-06: 3 orders\n",
      "- 2023-05-07: 6 orders\n",
      "- 2023-05-08: 6 orders\n",
      "- 2023-05-09: 5 orders\n",
      "- 2023-05-10: 2 orders\n",
      "- 2023-05-13: 3 orders\n",
      "- 2023-05-14: 6 orders\n",
      "\n",
      "Final Answer: The query returns the number of orders grouped by order date, with the following results: 2023-05-01 (6), 2023-05-02 (4), 2023-05-03 (1), 2023-05-06 (3), 2023-05-07 (6), 2023-05-08 (6), 2023-05-09 (5), 2023-05-10 (2), 2023-05-13 (3), 2023-05-14 (6).\u001b[0m\n",
      "\n",
      "\u001b[1m> Finished chain.\u001b[0m\n",
      "\u001b[33;1m\u001b[1;3mThe query returns the number of orders grouped by order date, with the following results: 2023-05-01 (6), 2023-05-02 (4), 2023-05-03 (1), 2023-05-06 (3), 2023-05-07 (6), 2023-05-08 (6), 2023-05-09 (5), 2023-05-10 (2), 2023-05-13 (3), 2023-05-14 (6).\u001b[0m\u001b[32;1m\u001b[1;3mТеперь у меня есть данные о количестве заказов по датам. Следующим шагом будет построение графика на основе этих данных для первых 10 дней.\n",
      "\n",
      "Action: PythonAgent  \n",
      "Action Input:  \n",
      "```python\n",
      "import matplotlib.pyplot as plt\n",
      "import pandas as pd\n",
      "\n",
      "# Данные о количестве заказов\n",
      "data = {\n",
      "    'order_date': ['2023-05-01', '2023-05-02', '2023-05-03', '2023-05-06', \n",
      "                   '2023-05-07', '2023-05-08', '2023-05-09', '2023-05-10', \n",
      "                   '2023-05-13', '2023-05-14'],\n",
      "    'order_count': [6, 4, 1, 3, 6, 6, 5, 2, 3, 6]\n",
      "}\n",
      "\n",
      "# Создание DataFrame\n",
      "df = pd.DataFrame(data)\n",
      "df['order_date'] = pd.to_datetime(df['order_date'])\n",
      "\n",
      "# Построение графика\n",
      "plt.figure(figsize=(10, 5))\n",
      "plt.plot(df['order_date'], df['order_count'], marker='o')\n",
      "plt.title('Количество заказов по дням')\n",
      "plt.xlabel('Дата')\n",
      "plt.ylabel('Количество заказов')\n",
      "plt.xticks(rotation=45)\n",
      "plt.grid()\n",
      "plt.tight_layout()\n",
      "plt.show()\n",
      "```  \n",
      "\u001b[0m\n",
      "\n",
      "\u001b[1m> Entering new AgentExecutor chain...\u001b[0m\n"
     ]
    },
    {
     "name": "stderr",
     "output_type": "stream",
     "text": [
      "Python REPL can execute arbitrary code. Use with caution.\n"
     ]
    },
    {
     "name": "stdout",
     "output_type": "stream",
     "text": [
      "\u001b[32;1m\u001b[1;3mTo answer the question, I need to execute the provided code, which creates a plot showing the number of orders over specific days. The code uses libraries `matplotlib` and `pandas` to generate and display a line graph based on the given data. I will run the code to see if it executes correctly and produces the desired output.\n",
      "\n",
      "Action: Python_REPL  \n",
      "Action Input: ```python\n",
      "import matplotlib.pyplot as plt\n",
      "import pandas as pd\n",
      "\n",
      "# Данные о количестве заказов\n",
      "data = {\n",
      "    'order_date': ['2023-05-01', '2023-05-02', '2023-05-03', '2023-05-06', \n",
      "                   '2023-05-07', '2023-05-08', '2023-05-09', '2023-05-10', \n",
      "                   '2023-05-13', '2023-05-14'],\n",
      "    'order_count': [6, 4, 1, 3, 6, 6, 5, 2, 3, 6]\n",
      "}\n",
      "\n",
      "# Создание DataFrame\n",
      "df = pd.DataFrame(data)\n",
      "df['order_date'] = pd.to_datetime(df['order_date'])\n",
      "\n",
      "# Построение графика\n",
      "plt.figure(figsize=(10, 5))\n",
      "plt.plot(df['order_date'], df['order_count'], marker='o')\n",
      "plt.title('Количество заказов по дням')\n",
      "plt.xlabel('Дата')\n",
      "plt.ylabel('Количество заказов')\n",
      "plt.xticks(rotation=45)\n",
      "plt.grid()\n",
      "plt.tight_layout()\n",
      "plt.show()\n",
      "```  \u001b[0m\n",
      "Observation: \u001b[36;1m\u001b[1;3mModuleNotFoundError(\"No module named 'matplotlib'\")\u001b[0m\n",
      "Thought:\u001b[32;1m\u001b[1;3mIt seems that the `matplotlib` library is not available in the current environment, which is necessary for running the provided code. Since I cannot run the code due to the missing library, I will provide an answer based on that situation.\n",
      "\n",
      "Final Answer: I don't know\u001b[0m\n",
      "\n",
      "\u001b[1m> Finished chain.\u001b[0m\n",
      "\u001b[36;1m\u001b[1;3mI don't know\u001b[0m\u001b[32;1m\u001b[1;3mI need to execute the Python code to visualize the data. This will produce the graph showing the number of orders over the specified days.\n",
      "\n",
      "Action: PythonAgent  \n",
      "Action Input:  \n",
      "```python\n",
      "import matplotlib.pyplot as plt\n",
      "import pandas as pd\n",
      "\n",
      "# Данные о количестве заказов\n",
      "data = {\n",
      "    'order_date': ['2023-05-01', '2023-05-02', '2023-05-03', '2023-05-06', \n",
      "                   '2023-05-07', '2023-05-08', '2023-05-09', '2023-05-10', \n",
      "                   '2023-05-13', '2023-05-14'],\n",
      "    'order_count': [6, 4, 1, 3, 6, 6, 5, 2, 3, 6]\n",
      "}\n",
      "\n",
      "# Создание DataFrame\n",
      "df = pd.DataFrame(data)\n",
      "df['order_date'] = pd.to_datetime(df['order_date'])\n",
      "\n",
      "# Построение графика\n",
      "plt.figure(figsize=(10, 5))\n",
      "plt.plot(df['order_date'], df['order_count'], marker='o')\n",
      "plt.title('Количество заказов по дням')\n",
      "plt.xlabel('Дата')\n",
      "plt.ylabel('Количество заказов')\n",
      "plt.xticks(rotation=45)\n",
      "plt.grid()\n",
      "plt.tight_layout()\n",
      "plt.show()\n",
      "```  \n",
      "\u001b[0m\n",
      "\n",
      "\u001b[1m> Entering new AgentExecutor chain...\u001b[0m\n",
      "\u001b[32;1m\u001b[1;3mTo answer the question, I need to execute the provided Python code which creates a plot using Matplotlib based on the order data. I will execute this code to visualize the number of orders per day. \n",
      "\n",
      "Action: Python_REPL  \n",
      "Action Input: ```python\n",
      "import matplotlib.pyplot as plt\n",
      "import pandas as pd\n",
      "\n",
      "# Данные о количестве заказов\n",
      "data = {\n",
      "    'order_date': ['2023-05-01', '2023-05-02', '2023-05-03', '2023-05-06', \n",
      "                   '2023-05-07', '2023-05-08', '2023-05-09', '2023-05-10', \n",
      "                   '2023-05-13', '2023-05-14'],\n",
      "    'order_count': [6, 4, 1, 3, 6, 6, 5, 2, 3, 6]\n",
      "}\n",
      "\n",
      "# Создание DataFrame\n",
      "df = pd.DataFrame(data)\n",
      "df['order_date'] = pd.to_datetime(df['order_date'])\n",
      "\n",
      "# Построение графика\n",
      "plt.figure(figsize=(10, 5))\n",
      "plt.plot(df['order_date'], df['order_count'], marker='o')\n",
      "plt.title('Количество заказов по дням')\n",
      "plt.xlabel('Дата')\n",
      "plt.ylabel('Количество заказов')\n",
      "plt.xticks(rotation=45)\n",
      "plt.grid()\n",
      "plt.tight_layout()\n",
      "plt.show()\n",
      "```  \u001b[0m\n",
      "Observation: \u001b[36;1m\u001b[1;3mModuleNotFoundError(\"No module named 'matplotlib'\")\u001b[0m\n",
      "Thought:\u001b[32;1m\u001b[1;3mThe error indicates that the Matplotlib library is not available in the current environment. Since I can't visualize the plot directly, I can't execute the code as intended.\n",
      "\n",
      "Final Answer: I don't know\u001b[0m\n",
      "\n",
      "\u001b[1m> Finished chain.\u001b[0m\n",
      "\u001b[36;1m\u001b[1;3mI don't know\u001b[0m\u001b[32;1m\u001b[1;3mI need to run the Python code to visualize the data, as this is necessary to produce the graph showing the number of orders over the specified days.\n",
      "\n",
      "Action: PythonAgent  \n",
      "Action Input:  \n",
      "```python\n",
      "import matplotlib.pyplot as plt\n",
      "import pandas as pd\n",
      "\n",
      "# Данные о количестве заказов\n",
      "data = {\n",
      "    'order_date': ['2023-05-01', '2023-05-02', '2023-05-03', '2023-05-06', \n",
      "                   '2023-05-07', '2023-05-08', '2023-05-09', '2023-05-10', \n",
      "                   '2023-05-13', '2023-05-14'],\n",
      "    'order_count': [6, 4, 1, 3, 6, 6, 5, 2, 3, 6]\n",
      "}\n",
      "\n",
      "# Создание DataFrame\n",
      "df = pd.DataFrame(data)\n",
      "df['order_date'] = pd.to_datetime(df['order_date'])\n",
      "\n",
      "# Построение графика\n",
      "plt.figure(figsize=(10, 5))\n",
      "plt.plot(df['order_date'], df['order_count'], marker='o')\n",
      "plt.title('Количество заказов по дням')\n",
      "plt.xlabel('Дата')\n",
      "plt.ylabel('Количество заказов')\n",
      "plt.xticks(rotation=45)\n",
      "plt.grid()\n",
      "plt.tight_layout()\n",
      "plt.show()\n",
      "```  \n",
      "\u001b[0m\n",
      "\n",
      "\u001b[1m> Entering new AgentExecutor chain...\u001b[0m\n",
      "\u001b[32;1m\u001b[1;3mI need to execute the given Python code to visualize the order count over the specified dates. The code includes creating a DataFrame with order dates and counts, and then plotting a line graph with that data. \n",
      "\n",
      "I will run the entire code as is in the Python REPL.\n",
      "\n",
      "Action: Python_REPL  \n",
      "Action Input: ```python\n",
      "import matplotlib.pyplot as plt\n",
      "import pandas as pd\n",
      "\n",
      "# Данные о количестве заказов\n",
      "data = {\n",
      "    'order_date': ['2023-05-01', '2023-05-02', '2023-05-03', '2023-05-06', \n",
      "                   '2023-05-07', '2023-05-08', '2023-05-09', '2023-05-10', \n",
      "                   '2023-05-13', '2023-05-14'],\n",
      "    'order_count': [6, 4, 1, 3, 6, 6, 5, 2, 3, 6]\n",
      "}\n",
      "\n",
      "# Создание DataFrame\n",
      "df = pd.DataFrame(data)\n",
      "df['order_date'] = pd.to_datetime(df['order_date'])\n",
      "\n",
      "# Построение графика\n",
      "plt.figure(figsize=(10, 5))\n",
      "plt.plot(df['order_date'], df['order_count'], marker='o')\n",
      "plt.title('Количество заказов по дням')\n",
      "plt.xlabel('Дата')\n",
      "plt.ylabel('Количество заказов')\n",
      "plt.xticks(rotation=45)\n",
      "plt.grid()\n",
      "plt.tight_layout()\n",
      "plt.show()\n",
      "```  \u001b[0m\n",
      "Observation: \u001b[36;1m\u001b[1;3mModuleNotFoundError(\"No module named 'matplotlib'\")\u001b[0m\n",
      "Thought:\u001b[32;1m\u001b[1;3mI cannot execute the code because the matplotlib module is not available in the current environment. \n",
      "\n",
      "Final Answer: I don't know.\u001b[0m\n",
      "\n",
      "\u001b[1m> Finished chain.\u001b[0m\n",
      "\u001b[36;1m\u001b[1;3mI don't know.\u001b[0m\u001b[32;1m\u001b[1;3mHere's a revised response to the original question following the format you provided.\n",
      "\n",
      "Question: Возьми из таблицы orders данные о количестве заказов в день. И построй график для первых 10 дней.  \n",
      "Thought: Чтобы ответить на вопрос, сначала необходимо получить данные о количестве заказов в день из таблицы `orders`. После получения данных нужно будет отобразить их в виде графика для первых 10 дней.  \n",
      "Action: SQLAgent  \n",
      "Action Input: \"SELECT order_date, COUNT(*) as order_count FROM orders GROUP BY order_date ORDER BY order_date LIMIT 10;\"  \n",
      "\u001b[0m\n",
      "\n",
      "\u001b[1m> Entering new SQL Agent Executor chain...\u001b[0m\n",
      "\u001b[32;1m\u001b[1;3mAction: sql_db_list_tables  \n",
      "Action Input: \"\"  \u001b[0m\u001b[38;5;200m\u001b[1;3mclients, orders, pizza_orders, pizzas\u001b[0m\u001b[32;1m\u001b[1;3mI need to check the schema of the 'orders' table to understand its structure and make sure the columns in my query are valid. \n",
      "\n",
      "Action: sql_db_schema  \n",
      "Action Input: \"orders\"  \u001b[0m\u001b[33;1m\u001b[1;3m\n",
      "CREATE TABLE orders (\n",
      "\tid INTEGER NOT NULL, \n",
      "\torder_date DATE, \n",
      "\tclient_id INTEGER, \n",
      "\tquantity INTEGER, \n",
      "\tprice NUMERIC(10, 2), \n",
      "\tPRIMARY KEY (id), \n",
      "\tFOREIGN KEY(client_id) REFERENCES clients (id)\n",
      ")\n",
      "\n",
      "/*\n",
      "3 rows from orders table:\n",
      "id\torder_date\tclient_id\tquantity\tprice\n",
      "1\t2023-05-01\t1\t1\t750.00\n",
      "2\t2023-05-01\t2\t4\t12000.00\n",
      "3\t2023-05-01\t1\t2\t2750.00\n",
      "*/\u001b[0m\u001b[32;1m\u001b[1;3mI can see that the `orders` table contains the `order_date` column, which is required for the query. I also need to ensure that the SQL query I plan to run is correctly formatted and valid for execution. \n",
      "\n",
      "Next, I will check the query I have prepared to ensure it is syntactically correct before executing it.\n",
      "\n",
      "Action: sql_db_query_checker  \n",
      "Action Input: \"SELECT order_date, COUNT(*) as order_count FROM orders GROUP BY order_date ORDER BY order_date LIMIT 10;\"  \u001b[0m\u001b[36;1m\u001b[1;3m```sql\n",
      "SELECT order_date, COUNT(*) as order_count FROM orders GROUP BY order_date ORDER BY order_date LIMIT 10;\n",
      "```\u001b[0m\u001b[32;1m\u001b[1;3mThe query is syntactically correct. I will now execute the query to retrieve the results.\n",
      "\n",
      "Action: sql_db_query  \n",
      "Action Input: \"SELECT order_date, COUNT(*) as order_count FROM orders GROUP BY order_date ORDER BY order_date LIMIT 10;\"  \u001b[0m\u001b[36;1m\u001b[1;3m[('2023-05-01', 6), ('2023-05-02', 4), ('2023-05-03', 1), ('2023-05-06', 3), ('2023-05-07', 6), ('2023-05-08', 6), ('2023-05-09', 5), ('2023-05-10', 2), ('2023-05-13', 3), ('2023-05-14', 6)]\u001b[0m\u001b[32;1m\u001b[1;3mI now know the final answer. \n",
      "\n",
      "Final Answer: The number of orders placed on different dates is as follows:\n",
      "- 2023-05-01: 6 orders\n",
      "- 2023-05-02: 4 orders\n",
      "- 2023-05-03: 1 order\n",
      "- 2023-05-06: 3 orders\n",
      "- 2023-05-07: 6 orders\n",
      "- 2023-05-08: 6 orders\n",
      "- 2023-05-09: 5 orders\n",
      "- 2023-05-10: 2 orders\n",
      "- 2023-05-13: 3 orders\n",
      "- 2023-05-14: 6 orders\u001b[0m\n",
      "\n",
      "\u001b[1m> Finished chain.\u001b[0m\n",
      "\u001b[33;1m\u001b[1;3mThe number of orders placed on different dates is as follows:\n",
      "- 2023-05-01: 6 orders\n",
      "- 2023-05-02: 4 orders\n",
      "- 2023-05-03: 1 order\n",
      "- 2023-05-06: 3 orders\n",
      "- 2023-05-07: 6 orders\n",
      "- 2023-05-08: 6 orders\n",
      "- 2023-05-09: 5 orders\n",
      "- 2023-05-10: 2 orders\n",
      "- 2023-05-13: 3 orders\n",
      "- 2023-05-14: 6 orders\u001b[0m\u001b[32;1m\u001b[1;3mТеперь у меня есть данные о количестве заказов по датам. Следующим шагом будет построение графика на основе этих данных для первых 10 дней.\n",
      "\n",
      "Action: PythonAgent  \n",
      "Action Input:  \n",
      "```python\n",
      "import matplotlib.pyplot as plt\n",
      "import pandas as pd\n",
      "\n",
      "# Данные о количестве заказов\n",
      "data = {\n",
      "    'order_date': ['2023-05-01', '2023-05-02', '2023-05-03', '2023-05-06', \n",
      "                   '2023-05-07', '2023-05-08', '2023-05-09', '2023-05-10', \n",
      "                   '2023-05-13', '2023-05-14'],\n",
      "    'order_count': [6, 4, 1, 3, 6, 6, 5, 2, 3, 6]\n",
      "}\n",
      "\n",
      "# Создание DataFrame\n",
      "df = pd.DataFrame(data)\n",
      "df['order_date'] = pd.to_datetime(df['order_date'])\n",
      "\n",
      "# Построение графика\n",
      "plt.figure(figsize=(10, 5))\n",
      "plt.plot(df['order_date'], df['order_count'], marker='o')\n",
      "plt.title('Количество заказов по дням')\n",
      "plt.xlabel('Дата')\n",
      "plt.ylabel('Количество заказов')\n",
      "plt.xticks(rotation=45)\n",
      "plt.grid()\n",
      "plt.tight_layout()\n",
      "plt.show()\n",
      "```  \n",
      "\u001b[0m\n",
      "\n",
      "\u001b[1m> Entering new AgentExecutor chain...\u001b[0m\n",
      "\u001b[32;1m\u001b[1;3mI need to run the provided code in order to generate and visualize the plot of order counts over the specified dates. \n",
      "\n",
      "Action: Python_REPL  \n",
      "Action Input: ```python\n",
      "import matplotlib.pyplot as plt\n",
      "import pandas as pd\n",
      "\n",
      "# Данные о количестве заказов\n",
      "data = {\n",
      "    'order_date': ['2023-05-01', '2023-05-02', '2023-05-03', '2023-05-06', \n",
      "                   '2023-05-07', '2023-05-08', '2023-05-09', '2023-05-10', \n",
      "                   '2023-05-13', '2023-05-14'],\n",
      "    'order_count': [6, 4, 1, 3, 6, 6, 5, 2, 3, 6]\n",
      "}\n",
      "\n",
      "# Создание DataFrame\n",
      "df = pd.DataFrame(data)\n",
      "df['order_date'] = pd.to_datetime(df['order_date'])\n",
      "\n",
      "# Построение графика\n",
      "plt.figure(figsize=(10, 5))\n",
      "plt.plot(df['order_date'], df['order_count'], marker='o')\n",
      "plt.title('Количество заказов по дням')\n",
      "plt.xlabel('Дата')\n",
      "plt.ylabel('Количество заказов')\n",
      "plt.xticks(rotation=45)\n",
      "plt.grid()\n",
      "plt.tight_layout()\n",
      "plt.show()\n",
      "```  \u001b[0m\n",
      "Observation: \u001b[36;1m\u001b[1;3mModuleNotFoundError(\"No module named 'matplotlib'\")\u001b[0m\n",
      "Thought:\u001b[32;1m\u001b[1;3mThought: It seems that the `matplotlib` library is not installed in the current environment, which is causing the error. Since I cannot install packages in this environment, I cannot execute the code. \n",
      "Final Answer: I don't know\u001b[0m\n",
      "\n",
      "\u001b[1m> Finished chain.\u001b[0m\n",
      "\u001b[36;1m\u001b[1;3mI don't know\u001b[0m\u001b[32;1m\u001b[1;3mIt seems that the Python code for plotting the graph is not executing properly, and I'm unable to visualize the output at this moment. I will summarize the process without the graph, just to provide the count of orders for each day based on the SQL query result.\n",
      "\n",
      "Final Answer: Я извлек следующие данные о количестве заказов в первый 10 дней:\n",
      "\n",
      "- 2023-05-01: 6 заказов\n",
      "- 2023-05-02: 4 заказа\n",
      "- 2023-05-03: 1 заказ\n",
      "- 2023-05-06: 3 заказа\n",
      "- 2023-05-07: 6 заказов\n",
      "- 2023-05-08: 6 заказов\n",
      "- 2023-05-09: 5 заказов\n",
      "- 2023-05-10: 2 заказа\n",
      "- 2023-05-13: 3 заказа\n",
      "- 2023-05-14: 6 заказов\n",
      "\n",
      "Если вам нужен график, вам придется выполнить предоставленный код на вашей локальной машине или в среде, где доступна библиотека для построения графиков, например, matplotlib.\u001b[0m\n",
      "\n",
      "\u001b[1m> Finished chain.\u001b[0m\n"
     ]
    },
    {
     "data": {
      "text/plain": [
       "{'input': 'Возьми из таблицы orders данные о количестве заказов в день. И построй график для первых 10 дней.',\n",
       " 'output': 'Я извлек следующие данные о количестве заказов в первый 10 дней:\\n\\n- 2023-05-01: 6 заказов\\n- 2023-05-02: 4 заказа\\n- 2023-05-03: 1 заказ\\n- 2023-05-06: 3 заказа\\n- 2023-05-07: 6 заказов\\n- 2023-05-08: 6 заказов\\n- 2023-05-09: 5 заказов\\n- 2023-05-10: 2 заказа\\n- 2023-05-13: 3 заказа\\n- 2023-05-14: 6 заказов\\n\\nЕсли вам нужен график, вам придется выполнить предоставленный код на вашей локальной машине или в среде, где доступна библиотека для построения графиков, например, matplotlib.'}"
      ]
     },
     "execution_count": 15,
     "metadata": {},
     "output_type": "execute_result"
    }
   ],
   "source": [
    "question = \"Возьми из таблицы orders данные о количестве заказов в день. И построй график для первых 10 дней.\"\n",
    "agent_executor.invoke({'input':question})\n",
    "\n",
    "#Раз через раз можешь сам создать график"
   ]
  },
  {
   "cell_type": "markdown",
   "id": "0dfbb314",
   "metadata": {},
   "source": [
    "### LangServe - сервис для деплоя Langchain-цепей, агентов и любых runnable объектов как Rest_API сервисов\n",
    "\n",
    "LangServe интегрирован с FastAPI и для валидации использует pydantic\n",
    "\n",
    "В файле server.py создадим код, который будет слушать запросы по адресу (адрес в файле)\n",
    "В нем два эндпоита, один для вопросов о пиццерии, второй шутит шутки на заданную тему"
   ]
  },
  {
   "cell_type": "code",
   "execution_count": 3,
   "id": "e4c4e4fc",
   "metadata": {},
   "outputs": [
    {
     "data": {
      "text/plain": [
       "{'output': {'content': 'Why did the robot go on a diet?\\n\\nBecause it had too many bytes!',\n",
       "  'additional_kwargs': {'refusal': None},\n",
       "  'response_metadata': {'token_usage': {'completion_tokens': 16,\n",
       "    'prompt_tokens': 13,\n",
       "    'total_tokens': 29,\n",
       "    'completion_tokens_details': {'accepted_prediction_tokens': 0,\n",
       "     'audio_tokens': 0,\n",
       "     'reasoning_tokens': 0,\n",
       "     'rejected_prediction_tokens': 0},\n",
       "    'prompt_tokens_details': {'audio_tokens': 0, 'cached_tokens': 0}},\n",
       "   'model_name': 'gpt-4o-mini-2024-07-18',\n",
       "   'system_fingerprint': 'fp_34a54ae93c',\n",
       "   'id': 'chatcmpl-ByaIjg1Lh5uy2hjk6wOP9CpEtZ8wy',\n",
       "   'service_tier': 'default',\n",
       "   'finish_reason': 'stop',\n",
       "   'logprobs': None},\n",
       "  'type': 'ai',\n",
       "  'name': None,\n",
       "  'id': 'run--79ae2b52-68ea-470c-b867-3dbc3003ccf6-0',\n",
       "  'example': False,\n",
       "  'tool_calls': [],\n",
       "  'invalid_tool_calls': [],\n",
       "  'usage_metadata': {'input_tokens': 13,\n",
       "   'output_tokens': 16,\n",
       "   'total_tokens': 29,\n",
       "   'input_token_details': {'audio': 0, 'cache_read': 0},\n",
       "   'output_token_details': {'audio': 0, 'reasoning': 0}}},\n",
       " 'metadata': {'run_id': 'a5b8c564-18a5-491a-a9da-4dec9ccd623f',\n",
       "  'feedback_tokens': []}}"
      ]
     },
     "execution_count": 3,
     "metadata": {},
     "output_type": "execute_result"
    }
   ],
   "source": [
    "# Проверяем \"шуточную\" цепочку\n",
    "import requests\n",
    "\n",
    "response = requests.post(\n",
    "    \"http://127.0.0.1:8000/joke/invoke\",\n",
    "    json={'input': {'topic': 'robot'}}\n",
    ")\n",
    "response.json()"
   ]
  },
  {
   "cell_type": "code",
   "execution_count": 5,
   "id": "35f7a8a9",
   "metadata": {},
   "outputs": [
    {
     "data": {
      "text/plain": [
       "{'output': 'Автопарк компании \"Алло! Пицца\" состоит из более 200 легковых автомобилей.',\n",
       " 'metadata': {'run_id': 'cf3cf189-ed07-41ac-a249-45f713338176',\n",
       "  'feedback_tokens': []}}"
      ]
     },
     "execution_count": 5,
     "metadata": {},
     "output_type": "execute_result"
    }
   ],
   "source": [
    "# Проверяем RAG-агента\n",
    "response = requests.post(\n",
    "    \"http://127.0.0.1:8000/rag_agent/invoke\",\n",
    "    json={'input': {'input':'Из скольки авто состоит автопарк компании?'}}\n",
    ")\n",
    "response.json()"
   ]
  }
 ],
 "metadata": {
  "kernelspec": {
   "display_name": ".venv",
   "language": "python",
   "name": "python3"
  },
  "language_info": {
   "codemirror_mode": {
    "name": "ipython",
    "version": 3
   },
   "file_extension": ".py",
   "mimetype": "text/x-python",
   "name": "python",
   "nbconvert_exporter": "python",
   "pygments_lexer": "ipython3",
   "version": "3.12.9"
  }
 },
 "nbformat": 4,
 "nbformat_minor": 5
}
