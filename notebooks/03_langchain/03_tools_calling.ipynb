{
 "cells": [
  {
   "cell_type": "markdown",
   "id": "a8ad509b",
   "metadata": {},
   "source": [
    "### Что та tools и зачем нужны\n",
    "Модель как правило ничего не знает про сегодняшний контекст, потому что в её веса не заложили информацию о том, какой сейчас\n",
    "курс доллара. Но она может узнавать это через tools\n",
    "Tool - это тоже **Runnable**\n",
    "\n",
    "Основные инструменты\n",
    "\n",
    "1. Встроенные в Langchain:\n",
    "- Tools (импортируем и пользуем Wikipedia, веб-поиск и прочее)\n",
    "- Toolkits - ящики инструментов (SQLToolkit, GitHubToolkit)\n",
    "2. Самописные инструменты\n",
    "3. Инструменты от вендоров моделей:\n",
    "- OpenAI\n",
    "- Google\n",
    "- Anthropic\n",
    "- \n",
    "*дорого"
   ]
  },
  {
   "cell_type": "code",
   "execution_count": 1,
   "id": "5e45d818",
   "metadata": {},
   "outputs": [],
   "source": [
    "import os\n",
    "from getpass import getpass\n",
    "from langchain_openai import ChatOpenAI\n",
    "\n",
    "course_api_key = getpass(prompt='Введите API-ключ полученный в боте')\n",
    "\n",
    "# инициализируем языковую модель\n",
    "llm = ChatOpenAI(api_key=course_api_key, model='gpt-4o-mini', \n",
    "                 base_url=\"https://aleron-llm.neuraldeep.tech/\")"
   ]
  },
  {
   "cell_type": "code",
   "execution_count": 2,
   "id": "009a2d26",
   "metadata": {},
   "outputs": [],
   "source": [
    "from langchain_community.tools import WikipediaQueryRun\n",
    "from langchain_community.utilities import WikipediaAPIWrapper\n",
    "\n",
    "#Импортируем обертку для доступа к API\n",
    "api_wrapper = WikipediaAPIWrapper(top_k_results=1 #Сколько результатов поиска выводить\n",
    "                                  ,doc_content_chars_max=134 #Максимальная длина ответа\n",
    "                                  )\n",
    "\n",
    "#Инициализация\n",
    "tool = WikipediaQueryRun(api_wrapper=api_wrapper)"
   ]
  },
  {
   "cell_type": "code",
   "execution_count": 3,
   "id": "23c1a8ad",
   "metadata": {},
   "outputs": [
    {
     "name": "stdout",
     "output_type": "stream",
     "text": [
      "Page: Earth\n",
      "Summary: Earth is the third planet from the Sun and the only astronomical object known to harbor life. This is enabled by \n"
     ]
    }
   ],
   "source": [
    "#Запускаем запрос\n",
    "answer =tool.invoke({'query': \"Earth\"})\n",
    "print(answer)\n",
    "\n",
    "# Page: Earth\n",
    "# Summary: Earth is the third planet from the Sun and the only astronomical object known to harbor life. This is enabled by"
   ]
  },
  {
   "cell_type": "markdown",
   "id": "18fc7c41",
   "metadata": {},
   "source": [
    "### Load_tools\n",
    "Как говорил выше можно подгружать инструменты по ключевому имени из модуля"
   ]
  },
  {
   "cell_type": "code",
   "execution_count": 4,
   "id": "d18355d8",
   "metadata": {},
   "outputs": [
    {
     "name": "stdout",
     "output_type": "stream",
     "text": [
      "Тип: <class 'list'>. Количество: 2\n"
     ]
    }
   ],
   "source": [
    "from langchain.agents import load_tools\n",
    "\n",
    "#Установи pip install numexpr\n",
    "#Гружу тулы для википедии и математики\n",
    "tools = load_tools([\"wikipedia\", \"llm-math\"], llm = llm)\n",
    "\n",
    "print(f'Тип: {type(tools)}. Количество: {len(tools)}')\n",
    "#Тип: <class 'list'>. Количество: 2"
   ]
  },
  {
   "cell_type": "code",
   "execution_count": 5,
   "id": "a1ac3ab9",
   "metadata": {},
   "outputs": [
    {
     "data": {
      "text/plain": [
       "WikipediaQueryRun(api_wrapper=WikipediaAPIWrapper(wiki_client=<module 'wikipedia' from 'd:\\\\Khabarov\\\\Репозиторий\\\\llm_practice_course\\\\.venv\\\\Lib\\\\site-packages\\\\wikipedia\\\\__init__.py'>, top_k_results=3, lang='en', load_all_available_meta=False, doc_content_chars_max=4000))"
      ]
     },
     "execution_count": 5,
     "metadata": {},
     "output_type": "execute_result"
    }
   ],
   "source": [
    "#Посмотрим что в туле\n",
    "tools[0] #Экземпляр тула"
   ]
  },
  {
   "cell_type": "code",
   "execution_count": 6,
   "id": "cde7fb16",
   "metadata": {},
   "outputs": [
    {
     "data": {
      "text/plain": [
       "('Calculator', 'Useful for when you need to answer questions about math.')"
      ]
     },
     "execution_count": 6,
     "metadata": {},
     "output_type": "execute_result"
    }
   ],
   "source": [
    "#Можно посмотреть основные поля\n",
    "tools[1].name, tools[1].description\n",
    "\n",
    "#('Calculator', 'Useful for when you need to answer questions about math.')"
   ]
  },
  {
   "cell_type": "code",
   "execution_count": 7,
   "id": "a7cd1d9b",
   "metadata": {},
   "outputs": [
    {
     "data": {
      "text/plain": [
       "'Answer: 23.0'"
      ]
     },
     "execution_count": 7,
     "metadata": {},
     "output_type": "execute_result"
    }
   ],
   "source": [
    "#Проверим наш тул (да, можно в него кидать запросы)\n",
    "tools[1].invoke('''У Маши было 3 яблока, Гриша принёс ещё 2 с половиной ящика яблок.\n",
    "            Сколько всего яблок у ребят, если ящик вмещает 8 яблок?''')\n",
    "\n",
    "#'Answer: 23.0' - Отвечает верно"
   ]
  },
  {
   "cell_type": "markdown",
   "id": "3d12a7ce",
   "metadata": {},
   "source": [
    "### Самописные инструменты через Tool и StructuredTool\n",
    "В Langchain есть два типа инструментов:\n",
    "- класс Tool принимает 1 аргумент на вход\n",
    "- класс StructuredTool - любое число аргов"
   ]
  },
  {
   "cell_type": "code",
   "execution_count": 8,
   "id": "f1e5bd3c",
   "metadata": {},
   "outputs": [
    {
     "data": {
      "text/plain": [
       "9"
      ]
     },
     "execution_count": 8,
     "metadata": {},
     "output_type": "execute_result"
    }
   ],
   "source": [
    "# Напишем функцию, которая считает количество символов в слове\n",
    "def word_len(word):\n",
    "    return len(word)\n",
    "    \n",
    "word_len('langchain')"
   ]
  },
  {
   "cell_type": "code",
   "execution_count": 9,
   "id": "0b2727cd",
   "metadata": {},
   "outputs": [
    {
     "name": "stdout",
     "output_type": "stream",
     "text": [
      "13\n"
     ]
    }
   ],
   "source": [
    "from langchain_core.tools import Tool, StructuredTool\n",
    "\n",
    "#Создаем свой tool который считает длину слов\n",
    "word_len_tool = Tool(name=\"Word Length\"\n",
    "                     ,func=word_len\n",
    "                     ,description=\"Считает количество символов в слове\")\n",
    "\n",
    "word_len_tool \n",
    "#Tool(name='Word Length', description='Считает количество символов в слове',\n",
    "#  func=<function word_len at 0x0000013077BE3EC0>)\n",
    "\n",
    "answer = word_len_tool.invoke(\"Большие бабки\")\n",
    "print(answer) #13"
   ]
  },
  {
   "cell_type": "code",
   "execution_count": 10,
   "id": "e4e12e48",
   "metadata": {},
   "outputs": [
    {
     "name": "stdout",
     "output_type": "stream",
     "text": [
      "2\n"
     ]
    }
   ],
   "source": [
    "#Теперь создадим StructuredTool\n",
    "# Добавим к функции несколько аргументов, и аннотации типов\n",
    "def word_len_plus(word: str, b: int, g: int) -> int:\n",
    "    \"\"\"Считает количество символов в слове и прибавляет к ним числа\"\"\" # Обязательно добавляем docstring\n",
    "    return len(word) + b - g\n",
    "\n",
    "#Описание и название подхватывает из docstring\n",
    "word_len_tool_plus = StructuredTool.from_function(func=word_len_plus)\n",
    "\n",
    "answer = word_len_tool_plus.invoke({'word': 'LLM', 'b': 2, 'g': 3})\n",
    "print(answer)"
   ]
  },
  {
   "cell_type": "code",
   "execution_count": 11,
   "id": "202cb0ca",
   "metadata": {},
   "outputs": [
    {
     "name": "stdout",
     "output_type": "stream",
     "text": [
      "summ\n",
      "Складывает 2 целых числа\n",
      "{'a': {'title': 'A', 'type': 'integer'}, 'b': {'title': 'B', 'type': 'integer'}}\n"
     ]
    }
   ],
   "source": [
    "#Декоратор tool позволяет нам не думать о количестве аргументов, он сам определит\n",
    "\n",
    "from langchain_core.tools import tool\n",
    "\n",
    "@tool\n",
    "def summ(a: int, b: int) -> int:\n",
    "    \"\"\"Складывает 2 целых числа\"\"\"\n",
    "    return a + b\n",
    "\n",
    "print(summ.name)\n",
    "print(summ.description)\n",
    "print(summ.args)\n",
    "\n",
    "# summ\n",
    "# Складывает 2 целых числа\n",
    "# {'a': {'title': 'A', 'type': 'integer'}, 'b': {'title': 'B', 'type': 'integer'}}"
   ]
  },
  {
   "cell_type": "code",
   "execution_count": 12,
   "id": "a227e28e",
   "metadata": {},
   "outputs": [
    {
     "data": {
      "text/plain": [
       "StructuredTool(name='summ', description='Складывает 2 целых числа', args_schema=<class 'langchain_core.utils.pydantic.summ'>, func=<function summ at 0x00000284EC1C6980>)"
      ]
     },
     "execution_count": 12,
     "metadata": {},
     "output_type": "execute_result"
    }
   ],
   "source": [
    "summ # Декоратор сам определил, что это StructuredTool"
   ]
  },
  {
   "attachments": {
    "image.png": {
     "image/png": "[encoded data removed]"
    }
   },
   "cell_type": "markdown",
   "id": "813f3afc",
   "metadata": {},
   "source": [
    "### Tools Calling\n",
    "Не все модели поддерживают вызов тулов. Но если поддерживает, то выглядит это так:\n",
    "- модель получает запрос и пытается понять какой тул ей использовать (или не использовать никакой)\n",
    "- сама вытаскивает из запроса аргументы для туда и передает в тул (или отвечает без тула)\n",
    "- выдает ответ с использованием тула\n",
    "\n",
    "![image.png](attachment:image.png)"
   ]
  },
  {
   "cell_type": "code",
   "execution_count": 13,
   "id": "6c15e278",
   "metadata": {},
   "outputs": [
    {
     "data": {
      "text/plain": [
       "AIMessage(content='', additional_kwargs={'tool_calls': [{'id': 'call_6kZCArlSCQMCFELEjfJp7qGD', 'function': {'arguments': '{\"a\":22,\"b\":17}', 'name': 'summ'}, 'type': 'function'}], 'refusal': None}, response_metadata={'token_usage': {'completion_tokens': 18, 'prompt_tokens': 59, 'total_tokens': 77, 'completion_tokens_details': {'accepted_prediction_tokens': 0, 'audio_tokens': 0, 'reasoning_tokens': 0, 'rejected_prediction_tokens': 0}, 'prompt_tokens_details': {'audio_tokens': 0, 'cached_tokens': 0}}, 'model_name': 'gpt-4o-mini-2024-07-18', 'system_fingerprint': None, 'id': 'chatcmpl-Bw8E7pSrUKDtq2V6nusKPkzgDGgxo', 'service_tier': 'default', 'finish_reason': 'tool_calls', 'logprobs': None}, id='run--b0d45bd4-e1d1-4109-b5ec-7c2c4df2679a-0', tool_calls=[{'name': 'summ', 'args': {'a': 22, 'b': 17}, 'id': 'call_6kZCArlSCQMCFELEjfJp7qGD', 'type': 'tool_call'}], usage_metadata={'input_tokens': 59, 'output_tokens': 18, 'total_tokens': 77, 'input_token_details': {'audio': 0, 'cache_read': 0}, 'output_token_details': {'audio': 0, 'reasoning': 0}})"
      ]
     },
     "execution_count": 13,
     "metadata": {},
     "output_type": "execute_result"
    }
   ],
   "source": [
    "# Tool binding / привязка инструмента к LLM\n",
    "model_with_tools = llm.bind_tools([summ])\n",
    "\n",
    "# Tool calling \n",
    "response = model_with_tools.invoke(\"Сколько будет двадцать два плюс 17?\")\n",
    "response"
   ]
  },
  {
   "cell_type": "code",
   "execution_count": null,
   "id": "a2afa840",
   "metadata": {},
   "outputs": [
    {
     "data": {
      "text/plain": [
       "[{'name': 'summ',\n",
       "  'args': {'a': 22, 'b': 17},\n",
       "  'id': 'call_6kZCArlSCQMCFELEjfJp7qGD',\n",
       "  'type': 'tool_call'}]"
      ]
     },
     "execution_count": 14,
     "metadata": {},
     "output_type": "execute_result"
    }
   ],
   "source": [
    "#Теперь из нашего запроса можем достать tool_calls (чтобы посмотреть ходила ли ллм к тулам)\n",
    "response.tool_calls\n",
    "\n",
    "# [{'name': 'summ',\n",
    "#   'args': {'a': 22, 'b': 17},\n",
    "#   'id': 'call_6kZCArlSCQMCFELEjfJp7qGD',\n",
    "#   'type': 'tool_call'}]\n",
    "\n",
    "#Видим что модель правильно определила нужный тул и сама вычленила параметры для ввода"
   ]
  },
  {
   "cell_type": "code",
   "execution_count": null,
   "id": "649bd1db",
   "metadata": {},
   "outputs": [
    {
     "data": {
      "text/plain": [
       "ToolMessage(content='39', name='summ', tool_call_id='call_6kZCArlSCQMCFELEjfJp7qGD')"
      ]
     },
     "execution_count": 16,
     "metadata": {},
     "output_type": "execute_result"
    }
   ],
   "source": [
    "#Получаем ответ через tool\n",
    "tool_answer = summ.invoke(response.tool_calls[0])\n",
    "tool_answer\n",
    "\n",
    "#В нем хранится нужный нам ответ"
   ]
  },
  {
   "cell_type": "code",
   "execution_count": null,
   "id": "07d7bcf1",
   "metadata": {},
   "outputs": [
    {
     "data": {
      "text/plain": [
       "'В слове \"зачёт\" 6 букв.'"
      ]
     },
     "execution_count": 18,
     "metadata": {},
     "output_type": "execute_result"
    }
   ],
   "source": [
    "# Спросим нейтральный вопрос - модель выдала ответ, tool_calls не было.\n",
    "answer = model_with_tools.invoke(\"Сколько букв в слове зачёт?\").content\n",
    "answer #'В слове \"зачёт\" 6 букв.'\n",
    "\n",
    "#Модель отвечает неправильно. Поможем ей через Tool"
   ]
  },
  {
   "cell_type": "code",
   "execution_count": 19,
   "id": "18c86f4d",
   "metadata": {},
   "outputs": [],
   "source": [
    "@tool\n",
    "def get_word_length(word: str) -> int:\n",
    "    \"\"\"Возвращает длину слова\"\"\" # добавляем docstring, чтобмы LLM понимала суть инструмента\n",
    "    return len(word)\n",
    "\n",
    "tools = [get_word_length]"
   ]
  },
  {
   "cell_type": "code",
   "execution_count": null,
   "id": "54a6518f",
   "metadata": {},
   "outputs": [
    {
     "data": {
      "text/plain": [
       "[{'name': 'get_word_length',\n",
       "  'args': {'word': 'зачёт'},\n",
       "  'id': 'call_nHKeeVDSaExz66SbdgbPbqKu',\n",
       "  'type': 'tool_call'}]"
      ]
     },
     "execution_count": 20,
     "metadata": {},
     "output_type": "execute_result"
    }
   ],
   "source": [
    "# Tool binding\n",
    "model_with_tools = llm.bind_tools(tools)\n",
    "\n",
    "# Tool calling \n",
    "resp = model_with_tools.invoke(\"Сколько букв в слове зачёт?\")\n",
    "resp.tool_calls\n",
    "\n",
    "#Видим, что модель правильно поняла какой тул использовать"
   ]
  },
  {
   "cell_type": "code",
   "execution_count": null,
   "id": "e9ad681e",
   "metadata": {},
   "outputs": [
    {
     "data": {
      "text/plain": [
       "'В слове \"зачёт\" 5 букв.'"
      ]
     },
     "execution_count": 22,
     "metadata": {},
     "output_type": "execute_result"
    }
   ],
   "source": [
    "from langchain_core.messages import HumanMessage\n",
    "\n",
    "#Здесь мы получаем инфу о том какой тул использовался и какой ответ получился\n",
    "tool_message = get_word_length.invoke(resp.tool_calls[0])\n",
    "tool_message\n",
    "\n",
    "\n",
    "# теперь соберём все сообщения вместе \n",
    "# важно чтобы id в tool_calling и ToolMessage совпадали.\n",
    "messages = [\n",
    "    HumanMessage(\"Сколько букв в слове зачёт?\"),\n",
    "    resp,\n",
    "    tool_message\n",
    "]\n",
    "\n",
    "final_answer = model_with_tools.invoke(messages).content\n",
    "final_answer\n",
    "\n",
    "#Теперь модель отвечает верно 'В слове \"зачёт\" 5 букв.'"
   ]
  },
  {
   "cell_type": "markdown",
   "id": "b212b3f4",
   "metadata": {},
   "source": [
    "### Используем сразу несколько тулов"
   ]
  },
  {
   "cell_type": "code",
   "execution_count": 23,
   "id": "54720d68",
   "metadata": {},
   "outputs": [],
   "source": [
    "import datetime\n",
    "\n",
    "# Создадим инструмент, показывающий текущее время\n",
    "@tool\n",
    "def get_current_time(nothing: None ) -> str:\n",
    "    \"\"\"Возвращает текущее время\"\"\" \n",
    "\n",
    "    # Получаем текущее время и дату\n",
    "    now = datetime.datetime.now()\n",
    "    \n",
    "    # Возвращаем текущее время\n",
    "    return now.strftime('%H:%M:%S')\n",
    "\n",
    "# Загрузим готовые инструменты\n",
    "tools = load_tools([\"wikipedia\",\n",
    "                    \"llm-math\"], llm=llm)"
   ]
  },
  {
   "cell_type": "code",
   "execution_count": 24,
   "id": "36a9d1cf",
   "metadata": {},
   "outputs": [],
   "source": [
    "# Привязка инструментов к LLM\n",
    "llm_with_tools = llm.bind_tools(tools + [get_current_time])"
   ]
  },
  {
   "cell_type": "code",
   "execution_count": null,
   "id": "4c2eaae6",
   "metadata": {},
   "outputs": [
    {
     "name": "stdout",
     "output_type": "stream",
     "text": [
      "content='Извлеки квадратный корень из девяти и назови количество участников группы Beatles. А еще скажи время' additional_kwargs={} response_metadata={}\n"
     ]
    }
   ],
   "source": [
    "task = \"Извлеки квадратный корень из девяти и назови количество участников группы Beatles. А еще скажи время\"\n",
    "\n",
    "messages = [HumanMessage(task)]\n",
    "print(messages[0])\n",
    "\n",
    "#content='Извлеки квадратный корень из девяти и назови количество участников группы Beatles.\n",
    "#  А еще скажи время' additional_kwargs={} response_metadata={}"
   ]
  },
  {
   "cell_type": "code",
   "execution_count": null,
   "id": "e10fe01a",
   "metadata": {},
   "outputs": [
    {
     "name": "stdout",
     "output_type": "stream",
     "text": [
      "{'tool_calls': [{'id': 'call_EVe628c7Arb3q4vacos1RREW', 'function': {'arguments': '{\"__arg1\": \"sqrt(9)\"}', 'name': 'Calculator'}, 'type': 'function'}, {'id': 'call_D08GBnifHCTdTYBboFTvJe23', 'function': {'arguments': '{\"query\": \"The Beatles\"}', 'name': 'wikipedia'}, 'type': 'function'}, {'id': 'call_vlr4Dx1mDPGk8alRhwNFNZEG', 'function': {'arguments': '{\"nothing\": null}', 'name': 'get_current_time'}, 'type': 'function'}], 'refusal': None}\n"
     ]
    }
   ],
   "source": [
    "#Получаем отклик от модели\n",
    "response = llm_with_tools.invoke(messages)\n",
    "\n"
   ]
  },
  {
   "cell_type": "code",
   "execution_count": null,
   "id": "dbd15690",
   "metadata": {},
   "outputs": [
    {
     "name": "stdout",
     "output_type": "stream",
     "text": [
      "{'tool_calls': [{'id': 'call_EVe628c7Arb3q4vacos1RREW', 'function': {'arguments': '{\"__arg1\": \"sqrt(9)\"}', 'name': 'Calculator'}, 'type': 'function'}, {'id': 'call_D08GBnifHCTdTYBboFTvJe23', 'function': {'arguments': '{\"query\": \"The Beatles\"}', 'name': 'wikipedia'}, 'type': 'function'}, {'id': 'call_vlr4Dx1mDPGk8alRhwNFNZEG', 'function': {'arguments': '{\"nothing\": null}', 'name': 'get_current_time'}, 'type': 'function'}], 'refusal': None}\n"
     ]
    }
   ],
   "source": [
    "print(response.additional_kwargs)\n",
    "\n",
    "{'tool_calls': \n",
    " [{'id': 'call_EVe628c7Arb3q4vacos1RREW', 'function': {'arguments': '{\"__arg1\": \"sqrt(9)\"}', 'name': 'Calculator'}, 'type': 'function'},\n",
    "   {'id': 'call_D08GBnifHCTdTYBboFTvJe23', 'function': {'arguments': '{\"query\": \"The Beatles\"}', 'name': 'wikipedia'}, 'type': 'function'},\n",
    "     {'id': 'call_vlr4Dx1mDPGk8alRhwNFNZEG', 'function': {'arguments': '{\"nothing\": null}', 'name': 'get_current_time'}, 'type': 'function'}],\n",
    "       'refusal': None}\n",
    "\n",
    "#Здесь можно увидеть, что наша модель обращалась к 3м тулам с разными аргументами\n"
   ]
  },
  {
   "cell_type": "code",
   "execution_count": 31,
   "id": "12a8bbde",
   "metadata": {},
   "outputs": [
    {
     "name": "stdout",
     "output_type": "stream",
     "text": [
      "[{'name': 'Calculator', 'args': {'__arg1': 'sqrt(9)'}, 'id': 'call_EVe628c7Arb3q4vacos1RREW', 'type': 'tool_call'}, {'name': 'wikipedia', 'args': {'query': 'The Beatles'}, 'id': 'call_D08GBnifHCTdTYBboFTvJe23', 'type': 'tool_call'}, {'name': 'get_current_time', 'args': {'nothing': None}, 'id': 'call_vlr4Dx1mDPGk8alRhwNFNZEG', 'type': 'tool_call'}]\n"
     ]
    }
   ],
   "source": [
    "print(response.tool_calls) #Можно еще чекнуть так"
   ]
  },
  {
   "cell_type": "code",
   "execution_count": 32,
   "id": "96b5995b",
   "metadata": {},
   "outputs": [],
   "source": [
    "messages.append(response)\n",
    "\n",
    "#Наш список messages - это HumanMessage, а затем AIMessage (он же response)"
   ]
  },
  {
   "cell_type": "code",
   "execution_count": 33,
   "id": "b9c1e468",
   "metadata": {},
   "outputs": [],
   "source": [
    "# Соберём ToolMessages в messages\n",
    "for tool_call in response.tool_calls:\n",
    "\n",
    "    if tool_call[\"name\"] == 'wikipedia':\n",
    "        tool_msg = tools[0].invoke(tool_call)\n",
    "        \n",
    "    elif tool_call[\"name\"] == 'get_current_time':\n",
    "        tool_msg = get_current_time.invoke(tool_call)\n",
    "        \n",
    "    else:\n",
    "        tool_msg = tools[1].invoke(tool_call)\n",
    "        \n",
    "    messages.append(tool_msg)"
   ]
  },
  {
   "cell_type": "code",
   "execution_count": null,
   "id": "1386eed7",
   "metadata": {},
   "outputs": [
    {
     "data": {
      "text/plain": [
       "[HumanMessage(content='Извлеки квадратный корень из девяти и назови количество участников группы Beatles. А еще скажи время', additional_kwargs={}, response_metadata={}),\n",
       " AIMessage(content='', additional_kwargs={'tool_calls': [{'id': 'call_EVe628c7Arb3q4vacos1RREW', 'function': {'arguments': '{\"__arg1\": \"sqrt(9)\"}', 'name': 'Calculator'}, 'type': 'function'}, {'id': 'call_D08GBnifHCTdTYBboFTvJe23', 'function': {'arguments': '{\"query\": \"The Beatles\"}', 'name': 'wikipedia'}, 'type': 'function'}, {'id': 'call_vlr4Dx1mDPGk8alRhwNFNZEG', 'function': {'arguments': '{\"nothing\": null}', 'name': 'get_current_time'}, 'type': 'function'}], 'refusal': None}, response_metadata={'token_usage': {'completion_tokens': 64, 'prompt_tokens': 159, 'total_tokens': 223, 'completion_tokens_details': {'accepted_prediction_tokens': 0, 'audio_tokens': 0, 'reasoning_tokens': 0, 'rejected_prediction_tokens': 0}, 'prompt_tokens_details': {'audio_tokens': 0, 'cached_tokens': 0}}, 'model_name': 'gpt-4o-mini-2024-07-18', 'system_fingerprint': None, 'id': 'chatcmpl-Bw8bHcnsSukO8r7iWRuyOTa60kl8i', 'service_tier': 'default', 'finish_reason': 'tool_calls', 'logprobs': None}, id='run--f951eb42-c26c-4c7c-b2e1-99d0fc8727b9-0', tool_calls=[{'name': 'Calculator', 'args': {'__arg1': 'sqrt(9)'}, 'id': 'call_EVe628c7Arb3q4vacos1RREW', 'type': 'tool_call'}, {'name': 'wikipedia', 'args': {'query': 'The Beatles'}, 'id': 'call_D08GBnifHCTdTYBboFTvJe23', 'type': 'tool_call'}, {'name': 'get_current_time', 'args': {'nothing': None}, 'id': 'call_vlr4Dx1mDPGk8alRhwNFNZEG', 'type': 'tool_call'}], usage_metadata={'input_tokens': 159, 'output_tokens': 64, 'total_tokens': 223, 'input_token_details': {'audio': 0, 'cache_read': 0}, 'output_token_details': {'audio': 0, 'reasoning': 0}}),\n",
       " ToolMessage(content='Answer: 3.0', name='Calculator', tool_call_id='call_EVe628c7Arb3q4vacos1RREW'),\n",
       " ToolMessage(content='Page: The Beatles\\nSummary: The Beatles were an English rock band formed in Liverpool in 1960. The core lineup of the band comprised John Lennon, Paul McCartney, George Harrison and Ringo Starr. They are widely regarded as the most influential band in Western popular music and were integral to the development of 1960s counterculture and the recognition of popular music as an art form. Rooted in skiffle, beat and 1950s rock \\'n\\' roll, their sound incorporated elements of classical music and traditional pop in innovative ways. The band also explored music styles ranging from folk and Indian music to psychedelia and hard rock. As pioneers in recording, songwriting and artistic presentation, the Beatles revolutionised many aspects of the music industry and were often publicised as leaders of the era\\'s youth and sociocultural movements.\\nLed by primary songwriters Lennon and McCartney, the Beatles evolved from Lennon\\'s previous group, the Quarrymen, and built their reputation by playing clubs in Liverpool and Hamburg, Germany, starting in 1960, initially with Stuart Sutcliffe playing bass. The core trio of Lennon, McCartney and Harrison, together since 1958, went through a succession of drummers, including Pete Best, before inviting Starr to join them in 1962. Manager Brian Epstein moulded them into a professional act, and producer George Martin developed their recordings, greatly expanding their domestic success after they signed with EMI and achieved their first hit, \"Love Me Do\", in late 1962. As their popularity grew into the intense fan frenzy dubbed \"Beatlemania\", the band acquired the nickname \"the Fab Four\". Epstein, Martin or other members of the band\\'s entourage were sometimes informally referred to as a \"fifth Beatle\".\\nBy early 1964, the Beatles were international stars and had achieved unprecedented levels of critical and commercial success. They became a leading force in Britain\\'s cultural resurgence, ushering in the British Invasion of the United States pop market. They soon made their film debut with A Hard Day\\'s Night (1964). A growing desire to refine their studio efforts, coupled with the challenging nature of their concert tours, led to the band\\'s retirement from live performances in 1966. During this time, they produced albums of greater sophistication, including Rubber Soul (1965), Revolver (1966) and Sgt. Pepper\\'s Lonely Hearts Club Band (1967). They enjoyed further commercial success with The Beatles (also known as \"the White Album\", 1968) and Abbey Road (1969). The success of these records heralded the album era, increased public interest in psychedelic drugs and Eastern spirituality, and furthered advancements in electronic music, album art and music videos. In 1968, they founded Apple Corps, a multi-armed multimedia corporation that continues to oversee projects related to the band\\'s legacy. After the group\\'s break-up in 1970, all principal former members enjoyed success as solo artists. While some partial reunions occurred over the next decade, the four members never reunited. Lennon was murdered in 1980, and Harrison died of lung cancer in 2001. McCartney and Starr remain musically active.\\nThe Beatles are the best-selling music act of all time, with estimated sales of 600 million units worldwide. They are the most successful act in the history of the US Billboard charts, with the most number-one hits on the US Billboard Hot 100 chart (20), and they hold the record for most number-one albums on the UK Albums Chart (15) and most singles sold in the UK (21.9 million). The band received many accolades, including eight Grammy Awards, four Brit Awards, an Academy Award (for Best Original Song Score for the 1970 documentary film Let It Be) and fifteen Ivor Novello Awards. They were inducted into the Rock and Roll Hall of Fame in their first year of eligibility, 1988, and each principal member was individually inducted between 1994 and 2015. In 2004 and 2011, the group topped Rolling Stone\\'s lists of the greatest a', name='wikipedia', tool_call_id='call_D08GBnifHCTdTYBboFTvJe23'),\n",
       " ToolMessage(content='19:54:17', name='get_current_time', tool_call_id='call_vlr4Dx1mDPGk8alRhwNFNZEG')]"
      ]
     },
     "execution_count": 34,
     "metadata": {},
     "output_type": "execute_result"
    }
   ],
   "source": [
    "messages #Теперь тут у нас есть все сообщения (1 вопрос, 2 общий ответ, 3 - 5 частные ответы)"
   ]
  },
  {
   "cell_type": "code",
   "execution_count": null,
   "id": "75baef00",
   "metadata": {},
   "outputs": [
    {
     "name": "stdout",
     "output_type": "stream",
     "text": [
      "Квадратный корень из девяти равен 3.0.\n",
      "\n",
      "Группа Beatles состояла из четырех участников: Джона Леннона, Пола Маккартни, Джорджа Харрисона и Ринго Старра.\n",
      "\n",
      "Текущее время: 19:54:17.\n"
     ]
    }
   ],
   "source": [
    "print(llm_with_tools.invoke(messages).content)\n",
    "\n",
    "#Модель ответила на все 3 вопроса"
   ]
  }
 ],
 "metadata": {
  "kernelspec": {
   "display_name": ".venv",
   "language": "python",
   "name": "python3"
  },
  "language_info": {
   "codemirror_mode": {
    "name": "ipython",
    "version": 3
   },
   "file_extension": ".py",
   "mimetype": "text/x-python",
   "name": "python",
   "nbconvert_exporter": "python",
   "pygments_lexer": "ipython3",
   "version": "3.12.9"
  }
 },
 "nbformat": 4,
 "nbformat_minor": 5
}
